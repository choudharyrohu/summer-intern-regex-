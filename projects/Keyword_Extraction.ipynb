{
 "cells": [
  {
   "cell_type": "code",
   "execution_count": 1,
   "id": "1c628d73",
   "metadata": {},
   "outputs": [
    {
     "name": "stderr",
     "output_type": "stream",
     "text": [
      "[nltk_data] Downloading package punkt to C:\\Users\\RAHUL\n",
      "[nltk_data]     CHOUDHARY\\AppData\\Roaming\\nltk_data...\n",
      "[nltk_data]   Package punkt is already up-to-date!\n",
      "[nltk_data] Downloading package stopwords to C:\\Users\\RAHUL\n",
      "[nltk_data]     CHOUDHARY\\AppData\\Roaming\\nltk_data...\n",
      "[nltk_data]   Package stopwords is already up-to-date!\n"
     ]
    },
    {
     "name": "stdout",
     "output_type": "stream",
     "text": [
      "{'keyword': 108, 'tool': 64, 'research': 49, 'best': 36, 'free': 34, 'use': 28, 'seo': 23, 'search': 18, 'app': 15, 'data': 15, 'content': 15, 'featur': 15, 'per': 15, 'semrush': 14, 'site': 14, 'includ': 13, 'plan': 13, 'googl': 13, 'ai': 12, 'zapier': 12, 'make': 12, 'rank': 12, 'help': 11, 'like': 11, 'upgrad': 10, 'planner': 10, 'paid': 9, 'need': 8, 'optim': 8, 'test': 8, 'suggest': 8, 'result': 8, 'time': 8, 'get': 8, 'volum': 8, 'manag': 7, 'simpl': 7, 'look': 7, 'competit': 7, 'number': 7, 'ad': 7, 'track': 7, 'audit': 7, 'new': 7, 'right': 6, 'offer': 6, 'straightforward': 6, 'one': 6, 'inform': 6, 'queri': 6, 'pro': 6, 'autom': 5, 'may': 5, 'also': 5, 'rang': 5, 'find': 5, 'year': 5, 'differ': 5, 'mani': 5, 'serp': 5, 'moz': 5, 'complet': 5, 'analysi': 5, 'limit': 5, 'start': 5, 'provid': 5, 'see': 5, 'relat': 5, 'organ': 5, 'even': 5, 'connect': 5, 'chatbot': 5, 'chatgpt': 5, 'design': 4, 'work': 4, 'campaign': 4, 'advanc': 4, 'basic': 4, 'super': 4, 'actual': 4, 'consid': 4, 'explor': 4, 'detail': 4, 'along': 4, 'difficulti': 4, 'check': 4, 'addit': 4, 'pull': 4, 'gap': 4, 'budget': 4, 'analyt': 4, 'web': 4, 'con': 4, 'monthli': 4, 'current': 4, 'price': 4, 'list': 4, 'recommend': 4, 'gemini': 4, 'appsth': 4, 'across': 3, 'custom': 3, 'templatesexplor': 3, 'casesjoin': 3, 'earli': 3, 'softwar': 3, 'way': 3, 'streamlin': 3, 'market': 3, 'run': 3, 'simplifi': 3, 'target': 3, 'give': 3, 'requir': 3, 'account': 3, 'improv': 3, 'ppc': 3, 'option': 3, 'great': 3, 'evalu': 3, 'set': 3, 'never': 3, 'link': 3, 'put': 3, 'read': 3, 'pretti': 3, 'could': 3, 'traffic': 3, 'technic': 3, 'allow': 3, 'gener': 3, 'someth': 3, 'wordpress': 3, 'metric': 3, 'sourc': 3, 'websit': 3, 'day': 3, 'month': 3, 'avail': 3, 'priorit': 3, 'report': 3, 'less': 3, 'realli': 3, 'come': 3, 'idea': 3, 'share': 3, 'ton': 3, 'exampl': 3, 'low': 3, 'task': 3, 'tab': 3, 'ask': 3, 'workflow': 2, 'effect': 2, 'rout': 2, 'project': 2, 'engin': 2, 'total': 2, 'easier': 2, 'bank': 2, 'know': 2, 'choos': 2, 'four': 2, 'built': 2, 'specif': 2, 'much': 2, 'write': 2, 'spend': 2, 'dozen': 2, 'hour': 2, 'categori': 2, 'articl': 2, 'review': 2, 'select': 2, 'given': 2, 'popular': 2, 'made': 2, 'minimum': 2, 'guidanc': 2, 'ahref': 2, 'domain': 2, 'author': 2, 'topic': 2, 'quickli': 2, 'favorit': 2, 'last': 2, 'sinc': 2, 'especi': 2, 'plugin': 2, 'creat': 2, 'onboard': 2, 'cost': 2, 'analys': 2, 'freeth': 2, 'robust': 2, 'posit': 2, 'benefit': 2, 'overwhelm': 2, 'without': 2, 'similar': 2, 'easi': 2, 'forecast': 2, 'expens': 2, 'main': 2, 'exploratori': 2, 'impress': 2, 'strategi': 2, 'save': 2, 'granular': 2, 'imag': 2, 'standard': 2, 'automat': 2, 'origin': 2, 'prompt': 2, 'asana': 2, 'notion': 2, 'databas': 2, 'item': 2, 'itsemrush': 2, 'slack': 2, 'channel': 2, 'messag': 2, 'slacksemrush': 2, 'click': 2, 'ca': 2, 'go': 2, 'admit': 2, 'told': 2, 'lot': 2, 'said': 2, 'short': 2, 'dedic': 2, 'toolsth': 2, 'product': 2, 'recruit': 2, 'altern': 2, 'doc': 2, 'digit': 2, 'asset': 2, 'dam': 2, 'zapierskip': 1, 'contentproductzapi': 1, 'workflowstablesdatabas': 1, 'workflowsinterfacescustom': 1, 'page': 1, 'power': 1, 'workflowscapabilitiesapp': 1, 'integrationsexplor': 1, 'integrationsai': 1, 'securitywhat': 1, 'newcanvasbetaplan': 1, 'map': 1, 'aiai': 1, 'chatbotbetaansw': 1, 'question': 1, 'chatbotscentralbetacr': 1, 'bot': 1, 'taskexplor': 1, 'accesssolutionssolutionshow': 1, 'teamsbi': 1, 'teamrevopsdr': 1, 'revenu': 1, 'automationmarketingmultipli': 1, 'roiitbett': 1, 'system': 1, 'automationsalesclos': 1, 'dealscustom': 1, 'supportelev': 1, 'satisfactionleadersstreamlin': 1, 'processesbi': 1, 'appsalesforcehubspotslackopenaimicrosoft': 1, 'dynam': 1, 'crmmicrosoft': 1, 'teamszendeskjira': 1, 'cloudmarketoview': 1, 'appsbi': 1, 'caselead': 1, 'managementautom': 1, 'conversionssal': 1, 'pipelineautom': 1, 'handoff': 1, 'salesmarket': 1, 'campaignsboost': 1, 'impactcustom': 1, 'supportquickli': 1, 'ticket': 1, 'responsesdata': 1, 'managementconnect': 1, 'insightsproject': 1, 'managementdeliv': 1, 'seamlesslyticket': 1, 'incidentsresolv': 1, 'issu': 1, 'incid': 1, 'fasterautom': 1, 'revopsse': 1, 'take': 1, 'revop': 1, 'gtm': 1, 'next': 1, 'levelzapi': 1, 'forstartupssmal': 1, 'medium': 1, 'businessesenterpriseexplor': 1, 'accessresourcesbi': 1, 'teammarketingleadersitsal': 1, 'operationslearn': 1, 'moreblogzapi': 1, 'learnev': 1, 'webinarscustom': 1, 'storieszapi': 1, 'guidesget': 1, 'helphelp': 1, 'centercommunityhir': 1, 'expertsupport': 1, 'servicesmor': 1, 'supportzapi': 1, 'guidecr': 1, 'first': 1, 'zap': 1, 'easedevelop': 1, 'resourcesdevelop': 1, 'platformbuild': 1, 'integrationemb': 1, 'integrationintegr': 1, 'partner': 1, 'programdocumentationexplor': 1, 'accessenterprisepricingloadingloadinghomeapp': 1, 'picksbest': 1, 'appsbest': 1, 'min': 1, 'readth': 1, 'kiera': 1, 'abbamont': 1, 'shortag': 1, 'liter': 1, 'hundr': 1, 'gamut': 1, 'highli': 1, 'unhelp': 1, 'done': 1, 'empti': 1, 'sell': 1, 'child': 1, 'order': 1, 'access': 1, 'performanceautom': 1, 'campaignsaft': 1, 'multipl': 1, 'client': 1, 'seen': 1, 'worst': 1, 'import': 1, 'toolsmoz': 1, 'toolgoogl': 1, 'keywordssemrush': 1, 'professionalsfre': 1, 'toolwhat': 1, 'appsour': 1, 'roundup': 1, 'written': 1, 'human': 1, 'spent': 1, 'career': 1, 'unless': 1, 'explicitli': 1, 'state': 1, 'intend': 1, 'criteria': 1, 'placement': 1, 'valu': 1, 'trust': 1, 'reader': 1, 'us': 1, 'authent': 1, 'process': 1, 'full': 1, 'rundown': 1, 'tell': 1, 'want': 1, 'handl': 1, 'varieti': 1, 'case': 1, 'primarili': 1, 'factor': 1, 'determin': 1, 'initi': 1, 'chosen': 1, 'industri': 1, 'veteran': 1, 'everyth': 1, 'speed': 1, 'cluster': 1, 'busi': 1, 'owner': 1, 'understand': 1, 'call': 1, 'trial': 1, 'evergreen': 1, 'enough': 1, 'wo': 1, 'break': 1, 'either': 1, 'cut': 1, 'longer': 1, 'function': 1, 'extens': 1, 'pay': 1, 'away': 1, 'box': 1, 'protocol': 1, 'went': 1, 'guid': 1, 'tutori': 1, 'creation': 1, 'kind': 1, 'chocol': 1, 'cake': 1, 'white': 1, 'sneaker': 1, 'note': 1, 'whether': 1, 'social': 1, 'media': 1, 'forum': 1, 'drawn': 1, 'nativ': 1, 'verifi': 1, 'land': 1, 'glancebest': 1, 'forstandout': 1, 'featurefre': 1, 'planmoz': 1, 'exploreran': 1, 'solutionkeyword': 1, 'querygoogl': 1, 'plannerresearch': 1, 'keywordsforecast': 1, 'planningcomplet': 1, 'semrushadvanc': 1, 'professionalsgranular': 1, 'keywordsfre': 1, 'toolbas': 1, 'researchsuggest': 1, 'anglescomplet': 1, 'overallmoz': 1, 'approach': 1, 'present': 1, 'toolsstraightforward': 1, 'metricsbroad': 1, 'freemoz': 1, 'toolsfre': 1, 'monthmoz': 1, 'platform': 1, 'sever': 1, 'point': 1, 'histori': 1, 'compet': 1, 'user': 1, 'experi': 1, 'profession': 1, 'skimp': 1, 'clickthrough': 1, 'rate': 1, 'ctr': 1, 'scroll': 1, 'chanc': 1, 'avoid': 1, 'wast': 1, 'part': 1, 'competitor': 1, 'monthth': 1, 'keywordsgoogl': 1, 'forev': 1, 'adshelp': 1, 'adscan': 1, 'websitegoogl': 1, 'researchwhen': 1, 'buy': 1, 'worri': 1, 'two': 1, 'discoveri': 1, 'anoth': 1, 'seed': 1, 'term': 1, 'chang': 1, 'bid': 1, 'refin': 1, 'brand': 1, 'ahead': 1, 'show': 1, 'seosemrush': 1, 'datawid': 1, 'special': 1, 'toolspretti': 1, 'plansemrush': 1, 'experienc': 1, 'researchmost': 1, 'upgradeif': 1, 'dig': 1, 'snippet': 1, 'pack': 1, 'broad': 1, 'apart': 1, 'overview': 1, 'magic': 1, 'insight': 1, 'consol': 1, 'uncov': 1, 'famous': 1, 'tricki': 1, 'bonu': 1, 'templat': 1, 'let': 1, 'brief': 1, 'grade': 1, 'readabl': 1, 'tone': 1, 'voic': 1, 'handi': 1, 'bullsey': 1, 'graphic': 1, 'strike': 1, 'balanc': 1, 'plu': 1, 'visual': 1, 'relev': 1, 'newli': 1, 'releas': 1, 'copilot': 1, 'proactiv': 1, 'flag': 1, 'drop': 1, 'add': 1, 'mean': 1, 'keep': 1, 'goal': 1, 'taskscreat': 1, 'taskstri': 1, 'itsemrushsemrushcr': 1, 'notionsemrush': 1, 'notionsend': 1, 'auditssend': 1, 'auditstri': 1, 'toolfre': 1, 'reportuniqu': 1, 'anglesfre': 1, 'datano': 1, 'researchif': 1, 'ryan': 1, 'robinson': 1, 'ballpark': 1, 'character': 1, 'high': 1, 'angl': 1, 'build': 1, 'lightbulb': 1, 'icon': 1, 'version': 1, 'readi': 1, 'financi': 1, 'invest': 1, 'worth': 1, 'freecan': 1, 'formerli': 1, 'bard': 1, 'simplic': 1, 'upfront': 1, 'screenshot': 1, 'referenc': 1, 'seem': 1, 'fact': 1, 'abl': 1, 'transpar': 1, 'precis': 1, 'type': 1, 'expect': 1, 'complex': 1, 'still': 1, 'fall': 1, 'util': 1, 'bind': 1, 'bottom': 1, 'today': 1, 'would': 1, 'primari': 1, 'truli': 1, 'cours': 1, 'though': 1, 'usual': 1, 'answer': 1, 'reason': 1, 'switch': 1, 'fulli': 1, 'sign': 1, 'regularli': 1, 'hit': 1, 'daili': 1, 'miss': 1, 'abil': 1, 'etc': 1, 'grow': 1, 'afford': 1, 'getkeyword': 1, 'kwfinder': 1, 'trackersth': 1, 'drive': 1, 'traffichow': 1, 'everywhereth': 1, 'toolsthi': 1, 'publish': 1, 'june': 1, 'recent': 1, 'updat': 1, 'tip': 1, 'deliv': 1, 'straight': 1, 'inboxsubscribew': 1, 'email': 1, 'abbamontekiera': 1, 'writer': 1, 'saa': 1, 'ecommerc': 1, 'compani': 1, 'reach': 1, 'audienc': 1, 'locat': 1, 'boston': 1, 'love': 1, 'cinnamon': 1, 'coffe': 1, 'good': 1, 'basebal': 1, 'game': 1, 'catch': 1, 'twitter': 1, 'appssemrushrel': 1, 'articlesbest': 1, 'upse': 1, 'workspricinghelpdevelop': 1, 'platformpressjobsenterprisetemplatesfollow': 1, 'cookieslegalprivaci': 1}\n"
     ]
    }
   ],
   "source": [
    "import requests\n",
    "from bs4 import BeautifulSoup\n",
    "from collections import Counter\n",
    "from nltk.corpus import stopwords\n",
    "from nltk.tokenize import word_tokenize\n",
    "from nltk.stem import PorterStemmer\n",
    "import nltk\n",
    "\n",
    "# Ensure you have the necessary NLTK data files\n",
    "nltk.download('punkt')\n",
    "nltk.download('stopwords')\n",
    "\n",
    "def extract_keywords_from_url(url):\n",
    "    # Fetch the web page content\n",
    "    response = requests.get(url)\n",
    "    content = response.text\n",
    "\n",
    "    # Parse the HTML content using BeautifulSoup\n",
    "    soup = BeautifulSoup(content, 'html.parser')\n",
    "    text = soup.get_text()\n",
    "\n",
    "    # Tokenize the text\n",
    "    tokens = word_tokenize(text.lower())\n",
    "\n",
    "    # Remove stopwords and non-alphabetic tokens\n",
    "    stop_words = set(stopwords.words('english'))\n",
    "    words = [word for word in tokens if word.isalpha() and word not in stop_words]\n",
    "\n",
    "    # Stem the words to unify variations\n",
    "    stemmer = PorterStemmer()\n",
    "    stemmed_words = [stemmer.stem(word) for word in words]\n",
    "\n",
    "    # Count the occurrences of each stemmed word\n",
    "    word_counts = Counter(stemmed_words)\n",
    "\n",
    "    # Extract keywords and their counts\n",
    "    keywords = {word: count for word, count in word_counts.items()}\n",
    "\n",
    "    # Sort keywords by their counts in descending order\n",
    "    sorted_keywords = dict(sorted(keywords.items(), key=lambda item: item[1], reverse=True))\n",
    "\n",
    "    return sorted_keywords\n",
    "\n",
    "# Example usage\n",
    "url = 'https://zapier.com/blog/best-keyword-research-tool/'  # Replace with the actual URL\n",
    "keywords = extract_keywords_from_url(url)\n",
    "print(keywords)"
   ]
  },
  {
   "cell_type": "code",
   "execution_count": null,
   "id": "a6c9bf6a",
   "metadata": {},
   "outputs": [],
   "source": []
  }
 ],
 "metadata": {
  "kernelspec": {
   "display_name": "Python 3 (ipykernel)",
   "language": "python",
   "name": "python3"
  },
  "language_info": {
   "codemirror_mode": {
    "name": "ipython",
    "version": 3
   },
   "file_extension": ".py",
   "mimetype": "text/x-python",
   "name": "python",
   "nbconvert_exporter": "python",
   "pygments_lexer": "ipython3",
   "version": "3.9.13"
  }
 },
 "nbformat": 4,
 "nbformat_minor": 5
}
