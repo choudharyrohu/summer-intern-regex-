{
 "cells": [
  {
   "cell_type": "code",
   "execution_count": 18,
   "id": "f8cc3eaa",
   "metadata": {},
   "outputs": [],
   "source": [
    "#!pip install instaloader\n"
   ]
  },
  {
   "cell_type": "code",
   "execution_count": 2,
   "id": "5bab340b",
   "metadata": {},
   "outputs": [],
   "source": [
    "import instaloader\n"
   ]
  },
  {
   "cell_type": "code",
   "execution_count": 3,
   "id": "6a2591ce",
   "metadata": {},
   "outputs": [],
   "source": [
    "L = instaloader.Instaloader()\n"
   ]
  },
  {
   "cell_type": "code",
   "execution_count": 1,
   "id": "42a2f89e",
   "metadata": {},
   "outputs": [
    {
     "name": "stderr",
     "output_type": "stream",
     "text": [
      "C:\\Users\\RAHUL CHOUDHARY\\anaconda3\\lib\\site-packages\\win_unicode_console\\__init__.py:31: RuntimeWarning: sys.stdin.encoding == 'cp1252', whereas sys.stdout.encoding == 'UTF-8', readline hook consumer may assume they are the same\n",
      "  readline_hook.enable(use_pyreadline=use_pyreadline)\n"
     ]
    },
    {
     "name": "stdout",
     "output_type": "stream",
     "text": [
      "       comments\n",
      "0    Hello bhai\n",
      "1  Hor kida❤️❤️\n"
     ]
    }
   ],
   "source": [
    "import instaloader\n",
    "import pandas as pd\n",
    "\n",
    "# Initialize Instaloader\n",
    "L = instaloader.Instaloader()\n",
    "\n",
    "# Login to Instagram\n",
    "USER = 'moneyheist6_7'\n",
    "PASSWORD = '@avneet'\n",
    "L.login(USER, PASSWORD)\n",
    "\n",
    "# Specify the post shortcode\n",
    "shortcode = 'C1Ha-HVxj12'  # Example shortcode\n",
    "post = instaloader.Post.from_shortcode(L.context, shortcode)\n",
    "\n",
    "# Scrape comments\n",
    "comments = []\n",
    "\n",
    "for comment in post.get_comments():\n",
    "    comments.append(comment.text)\n",
    "\n",
    "# Create a DataFrame\n",
    "data = pd.DataFrame(comments, columns=['comments'])\n",
    "\n",
    "# Display the first few rows of the DataFrame\n",
    "print(data.head())\n"
   ]
  },
  {
   "cell_type": "code",
   "execution_count": 20,
   "id": "64737c2c",
   "metadata": {},
   "outputs": [],
   "source": [
    "from textblob import TextBlob"
   ]
  },
  {
   "cell_type": "code",
   "execution_count": 21,
   "id": "2891404a",
   "metadata": {},
   "outputs": [],
   "source": [
    "def textblob_sentiment_analysis (review): \n",
    "    sentiment = TextBlob (review).sentiment \n",
    "    if sentiment.polarity > 0.1 : \n",
    "        return 'Positive'\n",
    "    elif sentiment.polarity<-0.1:\n",
    "        return 'Negative'\n",
    "    else:\n",
    "        return 'Neutral'"
   ]
  },
  {
   "cell_type": "code",
   "execution_count": 22,
   "id": "3897a51f",
   "metadata": {},
   "outputs": [],
   "source": [
    "data['Sentiment']=data['comments'].apply(textblob_sentiment_analysis)"
   ]
  },
  {
   "cell_type": "code",
   "execution_count": 24,
   "id": "dc3aedb2",
   "metadata": {},
   "outputs": [
    {
     "data": {
      "text/html": [
       "<div>\n",
       "<style scoped>\n",
       "    .dataframe tbody tr th:only-of-type {\n",
       "        vertical-align: middle;\n",
       "    }\n",
       "\n",
       "    .dataframe tbody tr th {\n",
       "        vertical-align: top;\n",
       "    }\n",
       "\n",
       "    .dataframe thead th {\n",
       "        text-align: right;\n",
       "    }\n",
       "</style>\n",
       "<table border=\"1\" class=\"dataframe\">\n",
       "  <thead>\n",
       "    <tr style=\"text-align: right;\">\n",
       "      <th></th>\n",
       "      <th>comments</th>\n",
       "      <th>Sentiment</th>\n",
       "    </tr>\n",
       "  </thead>\n",
       "  <tbody>\n",
       "    <tr>\n",
       "      <th>1</th>\n",
       "      <td>bad</td>\n",
       "      <td>Negative</td>\n",
       "    </tr>\n",
       "    <tr>\n",
       "      <th>2</th>\n",
       "      <td>goood</td>\n",
       "      <td>Neutral</td>\n",
       "    </tr>\n",
       "    <tr>\n",
       "      <th>3</th>\n",
       "      <td>hiii</td>\n",
       "      <td>Neutral</td>\n",
       "    </tr>\n",
       "    <tr>\n",
       "      <th>0</th>\n",
       "      <td>funny</td>\n",
       "      <td>Positive</td>\n",
       "    </tr>\n",
       "  </tbody>\n",
       "</table>\n",
       "</div>"
      ],
      "text/plain": [
       "  comments Sentiment\n",
       "1      bad  Negative\n",
       "2    goood   Neutral\n",
       "3     hiii   Neutral\n",
       "0    funny  Positive"
      ]
     },
     "execution_count": 24,
     "metadata": {},
     "output_type": "execute_result"
    }
   ],
   "source": [
    "data.sample(4)"
   ]
  },
  {
   "cell_type": "code",
   "execution_count": 25,
   "id": "876fbfd9",
   "metadata": {},
   "outputs": [
    {
     "data": {
      "text/plain": [
       "Neutral     2\n",
       "Positive    1\n",
       "Negative    1\n",
       "Name: Sentiment, dtype: int64"
      ]
     },
     "execution_count": 25,
     "metadata": {},
     "output_type": "execute_result"
    }
   ],
   "source": [
    "sentiment_distribution=data['Sentiment'].value_counts()\n",
    "sentiment_distribution"
   ]
  },
  {
   "cell_type": "code",
   "execution_count": 26,
   "id": "a3b8bfb6",
   "metadata": {},
   "outputs": [],
   "source": [
    "import matplotlib.pyplot as plt\n",
    "import seaborn as sns"
   ]
  },
  {
   "cell_type": "code",
   "execution_count": 27,
   "id": "0b51ce9b",
   "metadata": {},
   "outputs": [
    {
     "data": {
      "text/plain": [
       "Text(0, 0.5, 'Count')"
      ]
     },
     "execution_count": 27,
     "metadata": {},
     "output_type": "execute_result"
    },
    {
     "data": {
      "image/png": "[encoded data removed]",
      "text/plain": [
       "<Figure size 900x500 with 1 Axes>"
      ]
     },
     "metadata": {},
     "output_type": "display_data"
    }
   ],
   "source": [
    "plt.figure(figsize = (9,5))\n",
    "sns.barplot(x = sentiment_distribution.index,\n",
    "y = sentiment_distribution.values)\n",
    "plt.title('Distribution of Sentiments')\n",
    "plt.xlabel('Sentiment')\n",
    "plt.ylabel('Count')"
   ]
  },
  {
   "cell_type": "code",
   "execution_count": null,
   "id": "ce37d431",
   "metadata": {},
   "outputs": [],
   "source": []
  }
 ],
 "metadata": {
  "kernelspec": {
   "display_name": "Python 3 (ipykernel)",
   "language": "python",
   "name": "python3"
  },
  "language_info": {
   "codemirror_mode": {
    "name": "ipython",
    "version": 3
   },
   "file_extension": ".py",
   "mimetype": "text/x-python",
   "name": "python",
   "nbconvert_exporter": "python",
   "pygments_lexer": "ipython3",
   "version": "3.9.13"
  }
 },
 "nbformat": 4,
 "nbformat_minor": 5
}
