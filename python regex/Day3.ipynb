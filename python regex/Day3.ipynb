{
 "cells": [
  {
   "cell_type": "code",
   "execution_count": 2,
   "id": "e1f2e687",
   "metadata": {},
   "outputs": [
    {
     "name": "stdout",
     "output_type": "stream",
     "text": [
      "$$$$*\n",
      "$$$**\n",
      "$$***\n",
      "$****\n",
      "*****\n"
     ]
    }
   ],
   "source": [
    "for i in range(1,6):\n",
    "    for j in range(5,i,-1):\n",
    "        print(\"$\",end=\"\")\n",
    "    for k in range(0,i):\n",
    "        print(\"*\",end=\"\")\n",
    "    print(\"\")"
   ]
  },
  {
   "cell_type": "code",
   "execution_count": 1,
   "id": "31d67361",
   "metadata": {},
   "outputs": [
    {
     "name": "stdout",
     "output_type": "stream",
     "text": [
      "hello 1\n",
      "hello 2\n",
      "hello 3\n",
      "hello 4\n"
     ]
    }
   ],
   "source": [
    "#while loop\n",
    "#while(condition)\n",
    "\n",
    "#for i in range(1,5)\n",
    "i=1\n",
    "while(i<5):\n",
    "    print(\"hello\",i)\n",
    "    i+=1\n"
   ]
  },
  {
   "cell_type": "code",
   "execution_count": null,
   "id": "074644e4",
   "metadata": {},
   "outputs": [],
   "source": [
    "#list, tuple,set,dictionary"
   ]
  },
  {
   "cell_type": "code",
   "execution_count": 2,
   "id": "8f1d3c72",
   "metadata": {},
   "outputs": [
    {
     "name": "stdout",
     "output_type": "stream",
     "text": [
      "<class 'list'>\n"
     ]
    }
   ],
   "source": [
    "#LIST : collection of element,which has index position ,mutable datatype and orderd collection of elements\n",
    "\n",
    "mylist=[10,20,\"naina\"]\n",
    "print(type(mylist))"
   ]
  },
  {
   "cell_type": "code",
   "execution_count": 6,
   "id": "edf89b42",
   "metadata": {},
   "outputs": [
    {
     "data": {
      "text/plain": [
       "[100, 20, 'naina']"
      ]
     },
     "execution_count": 6,
     "metadata": {},
     "output_type": "execute_result"
    }
   ],
   "source": [
    "mylist[0:15]"
   ]
  },
  {
   "cell_type": "code",
   "execution_count": 7,
   "id": "96cdac21",
   "metadata": {},
   "outputs": [],
   "source": [
    "#to update in list through index value\n",
    "mylist[0]=100"
   ]
  },
  {
   "cell_type": "code",
   "execution_count": 8,
   "id": "20245b76",
   "metadata": {},
   "outputs": [
    {
     "data": {
      "text/plain": [
       "[100, 20, 'naina']"
      ]
     },
     "execution_count": 8,
     "metadata": {},
     "output_type": "execute_result"
    }
   ],
   "source": [
    "mylist"
   ]
  },
  {
   "cell_type": "code",
   "execution_count": 11,
   "id": "bea360f4",
   "metadata": {},
   "outputs": [
    {
     "name": "stdout",
     "output_type": "stream",
     "text": [
      "[100, 20, 'naina', 50, 50, 50]\n"
     ]
    }
   ],
   "source": [
    "#to add value in list #in list we can not add more than one element at a tym \n",
    "mylist.append(50)\n",
    "print(mylist)"
   ]
  },
  {
   "cell_type": "code",
   "execution_count": 12,
   "id": "402d9a81",
   "metadata": {},
   "outputs": [
    {
     "name": "stdout",
     "output_type": "stream",
     "text": [
      "[100, 20, 'naina', 50, 50, 50, 'h', 'e', 'y']\n"
     ]
    }
   ],
   "source": [
    "mylist.extend(\"hey\")\n",
    "print(mylist)"
   ]
  },
  {
   "cell_type": "code",
   "execution_count": 13,
   "id": "72d1f7c8",
   "metadata": {},
   "outputs": [
    {
     "name": "stdout",
     "output_type": "stream",
     "text": [
      "[100, 20, 'naina', 50, 50, 50, 'h', 'e', 'y', 'hey', 99]\n"
     ]
    }
   ],
   "source": [
    "mylist.extend([\"hey\",99])\n",
    "print(mylist)"
   ]
  },
  {
   "cell_type": "code",
   "execution_count": 15,
   "id": "6c15adf6",
   "metadata": {},
   "outputs": [],
   "source": [
    "#to know the deatil of any variable or functions in that variable\n",
    "#help(mylist)"
   ]
  },
  {
   "cell_type": "code",
   "execution_count": 17,
   "id": "1fe8074c",
   "metadata": {},
   "outputs": [
    {
     "name": "stdout",
     "output_type": "stream",
     "text": [
      "[100, 20, 'naina', 50, 50, 50, 'h', 'e', 'y', 'hey']\n",
      "[100, 20, 'naina', 50, 50, 50, 'h', 'e', 'y']\n"
     ]
    }
   ],
   "source": [
    "#to delte elemts from list\n",
    "print(mylist)\n",
    "mylist.pop()\n",
    "print(mylist)"
   ]
  },
  {
   "cell_type": "code",
   "execution_count": 19,
   "id": "85add8b8",
   "metadata": {},
   "outputs": [
    {
     "name": "stdout",
     "output_type": "stream",
     "text": [
      "[100, 20, 'naina', 50, 50, 50, 'h', 'e', 'y']\n",
      "[100, 20, 50, 50, 50, 'h', 'e', 'y']\n"
     ]
    }
   ],
   "source": [
    "print(mylist)\n",
    "mylist.remove(\"naina\")\n",
    "print(mylist)"
   ]
  },
  {
   "cell_type": "code",
   "execution_count": 20,
   "id": "75a65332",
   "metadata": {},
   "outputs": [
    {
     "name": "stdout",
     "output_type": "stream",
     "text": [
      "[100, 20, 50, 50, 50, 'h', 'e', 'y']\n",
      "[100, 50, 50, 50, 'h', 'e', 'y']\n"
     ]
    }
   ],
   "source": [
    "print(mylist)\n",
    "del mylist[1]\n",
    "print(mylist)"
   ]
  },
  {
   "cell_type": "code",
   "execution_count": 22,
   "id": "4d868318",
   "metadata": {},
   "outputs": [
    {
     "name": "stdout",
     "output_type": "stream",
     "text": [
      "10\n",
      "20\n",
      "30\n",
      "rahul\n",
      "11.5\n"
     ]
    }
   ],
   "source": [
    "mylist=[10,20,30,\"rahul\",11.5]\n",
    "for var in mylist:\n",
    "    print(var)"
   ]
  },
  {
   "cell_type": "code",
   "execution_count": null,
   "id": "cb8a29b0",
   "metadata": {},
   "outputs": [],
   "source": [
    "\n",
    "    "
   ]
  },
  {
   "cell_type": "code",
   "execution_count": 1,
   "id": "3f9b869e",
   "metadata": {},
   "outputs": [
    {
     "name": "stdout",
     "output_type": "stream",
     "text": [
      "[100, 400, 900, 1600]\n"
     ]
    }
   ],
   "source": [
    "mlist=[10,20,30,40,\"naina\"]\n",
    "nlist=[]\n",
    "for i in mlist:\n",
    "    if(type(i) is int):\n",
    "        nlist.append(i**2)\n",
    "print(nlist)"
   ]
  },
  {
   "cell_type": "code",
   "execution_count": 2,
   "id": "a05580f7",
   "metadata": {},
   "outputs": [
    {
     "name": "stdout",
     "output_type": "stream",
     "text": [
      "[100, 400, 900]\n"
     ]
    }
   ],
   "source": [
    "#check if element is of integer type then square it and append in new list\n",
    "mlist=[10,20,30,\"rahul\"]\n",
    "nlist=[]\n",
    "for i in mlist:\n",
    "    if(type(i) is int):\n",
    "        nlist.append(i**2)\n",
    "print(nlist)\n"
   ]
  },
  {
   "cell_type": "code",
   "execution_count": 6,
   "id": "2d4b5818",
   "metadata": {},
   "outputs": [
    {
     "name": "stdout",
     "output_type": "stream",
     "text": [
      "armstrong\n"
     ]
    }
   ],
   "source": [
    "#chwck weather the number is armstrong no. or not\n",
    "no=153\n",
    "temp=no\n",
    "sum=0\n",
    "while(no>0):\n",
    "    rem=no%10\n",
    "    sum+=(rem**3)\n",
    "    no=no//10\n",
    "if(sum==temp):\n",
    "    print(\"armstrong\")\n",
    "else:\n",
    "    print(\"not\")\n",
    "    "
   ]
  },
  {
   "cell_type": "code",
   "execution_count": null,
   "id": "bc23004f",
   "metadata": {},
   "outputs": [],
   "source": [
    "#take input from user no. of days\n",
    "'''\n",
    "sunday 1,2,3,4,5,6,7\n",
    "next week 2,3,4,5,6,7\n",
    "find sum of amount\n",
    "'''"
   ]
  },
  {
   "cell_type": "code",
   "execution_count": 7,
   "id": "14fcb9e8",
   "metadata": {},
   "outputs": [
    {
     "name": "stdout",
     "output_type": "stream",
     "text": [
      "<class 'tuple'>\n"
     ]
    }
   ],
   "source": [
    "#tuple :immutable\n",
    "\n",
    "mytuple=10,20,30\n",
    "print(type(mytuple))"
   ]
  },
  {
   "cell_type": "code",
   "execution_count": 9,
   "id": "6dd925d2",
   "metadata": {},
   "outputs": [],
   "source": [
    "#tuple has only two functions :1)count 2)index"
   ]
  },
  {
   "cell_type": "code",
   "execution_count": 11,
   "id": "d66ed9ab",
   "metadata": {},
   "outputs": [
    {
     "name": "stdout",
     "output_type": "stream",
     "text": [
      "2211219841600\n",
      "after 2211220469296\n",
      "(10, 20, 60, 70)\n"
     ]
    }
   ],
   "source": [
    "mytuple=(10,20)\n",
    "print(id(mytuple))\n",
    "mytuple=mytuple+(60,70)\n",
    "print(\"after\",id(mytuple))\n",
    "print(mytuple)"
   ]
  },
  {
   "cell_type": "code",
   "execution_count": null,
   "id": "a67d76a9",
   "metadata": {},
   "outputs": [],
   "source": [
    "#Dictionary : collection of elements in form of key:value pairs\n",
    "#key:identifier\n",
    "#value is data\n",
    "#ordered collection of element\n",
    "#do not have index value"
   ]
  },
  {
   "cell_type": "code",
   "execution_count": 13,
   "id": "0858c02e",
   "metadata": {},
   "outputs": [],
   "source": [
    "mydictionary={10:\"rahul\", 20:\"choudhary\"}"
   ]
  },
  {
   "cell_type": "code",
   "execution_count": 17,
   "id": "8af0bd2b",
   "metadata": {},
   "outputs": [
    {
     "data": {
      "text/plain": [
       "'rahul'"
      ]
     },
     "execution_count": 17,
     "metadata": {},
     "output_type": "execute_result"
    }
   ],
   "source": [
    "mydictionary[10]"
   ]
  },
  {
   "cell_type": "code",
   "execution_count": 18,
   "id": "e8a186fb",
   "metadata": {},
   "outputs": [
    {
     "name": "stdout",
     "output_type": "stream",
     "text": [
      "{10: 'tushar', 20: 'choudhary'}\n"
     ]
    }
   ],
   "source": [
    "#update\n",
    "mydictionary[10]=\"tushar\"\n",
    "print(mydictionary)"
   ]
  },
  {
   "cell_type": "code",
   "execution_count": 19,
   "id": "7755308e",
   "metadata": {},
   "outputs": [
    {
     "name": "stdout",
     "output_type": "stream",
     "text": [
      "{10: 'tushar', 20: 'choudhary', 30: 'aman'}\n"
     ]
    }
   ],
   "source": [
    "#insert\n",
    "mydictionary[30]=\"aman\"\n",
    "print(mydictionary)"
   ]
  },
  {
   "cell_type": "code",
   "execution_count": 20,
   "id": "9f620f03",
   "metadata": {},
   "outputs": [
    {
     "name": "stdout",
     "output_type": "stream",
     "text": [
      "{10: 'tushar', 20: 'choudhary', 30: 'aman'}\n",
      "{20: 'choudhary', 30: 'aman'}\n",
      "x is  tushar\n"
     ]
    }
   ],
   "source": [
    "print(mydictionary)\n",
    "x=mydictionary.pop(10)#in dictionary while using pop key value dena compulsory hai\n",
    "print(mydictionary)\n",
    "print(\"x is \",x)"
   ]
  },
  {
   "cell_type": "code",
   "execution_count": 22,
   "id": "2d465f08",
   "metadata": {},
   "outputs": [
    {
     "name": "stdout",
     "output_type": "stream",
     "text": [
      "{'h': 1}\n",
      "{'h': 1, 'e': 1}\n",
      "{'h': 1, 'e': 1, 'l': 1}\n",
      "{'h': 1, 'e': 1, 'l': 1}\n",
      "{'h': 1, 'e': 1, 'l': 1, 'o': 1}\n"
     ]
    }
   ],
   "source": [
    "#hello\"\n",
    "#{\"h\":1, \"e\":1}\n",
    "mydictionary={}\n",
    "for char in \"hello\":\n",
    "    mydictionary[char]=1\n",
    "    print(mydictionary)"
   ]
  },
  {
   "cell_type": "code",
   "execution_count": 23,
   "id": "e008c9c9",
   "metadata": {},
   "outputs": [
    {
     "name": "stdout",
     "output_type": "stream",
     "text": [
      "{'e': 2, 'o': 1, 'a': 1, 'u': 1}\n"
     ]
    }
   ],
   "source": [
    "#take a string and print total no. of vowels present in string in form of dictionary.\n",
    "dictionary={}\n",
    "for char in \"hello hey rahul\":\n",
    "    if(char in \"aeiou\"):\n",
    "        if char not in dictionary:\n",
    "            dictionary[char]=1\n",
    "        else:\n",
    "            dictionary[char]=dictionary[char]+1\n",
    "print(dictionary)\n",
    "        "
   ]
  }
 ],
 "metadata": {
  "kernelspec": {
   "display_name": "Python 3 (ipykernel)",
   "language": "python",
   "name": "python3"
  },
  "language_info": {
   "codemirror_mode": {
    "name": "ipython",
    "version": 3
   },
   "file_extension": ".py",
   "mimetype": "text/x-python",
   "name": "python",
   "nbconvert_exporter": "python",
   "pygments_lexer": "ipython3",
   "version": "3.9.13"
  }
 },
 "nbformat": 4,
 "nbformat_minor": 5
}
