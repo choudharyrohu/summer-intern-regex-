{
 "cells": [
  {
   "cell_type": "code",
   "execution_count": 2,
   "id": "c076ed86-b128-44ff-a334-105cce77aca0",
   "metadata": {},
   "outputs": [
    {
     "data": {
      "text/plain": [
       "'xyzxyzxyzxyzxyz'"
      ]
     },
     "execution_count": 2,
     "metadata": {},
     "output_type": "execute_result"
    }
   ],
   "source": [
    "'''\n",
    "1.Define a function generate_n_chars() that takes an integer n and a character c and returns a string, n\n",
    "characters long, consisting only of c:s. For example, generate_n_chars(5,\"x\") should return the string\n",
    "\"xxxxx\". (Python is unusual in that you can actually write an expression 5 * \"x\" that will evaluate to\n",
    "\"xxxxx\". For the sake of the exercise you should ignore that the problem can be solved in this\n",
    "manner.)\n",
    "'''\n",
    "def generate_chars(x,y):\n",
    "    return x*y\n",
    "generate_chars(5,'xyz')\n"
   ]
  },
  {
   "cell_type": "code",
   "execution_count": 3,
   "id": "4d4243a9-b0f2-4c0d-a9a5-446e6d5dec27",
   "metadata": {},
   "outputs": [
    {
     "data": {
      "text/plain": [
       "51"
      ]
     },
     "execution_count": 3,
     "metadata": {},
     "output_type": "execute_result"
    }
   ],
   "source": [
    "'''\n",
    "2.The function max() from exercise 1) and the function max_of_three() from exercise 2) will only\n",
    "work for two and three numbers, respectively. But suppose we have a much larger number of\n",
    "numbers, or suppose we cannot tell in advance how many they are? Write a function max_in_list()\n",
    "that takes a list of numbers and returns the largest one.\n",
    "'''\n",
    "def max_in_list(x):\n",
    "    biggest=0\n",
    "    for i in x:\n",
    "        if (i  >= biggest):\n",
    "            biggest=i\n",
    "    return biggest\n",
    "\n",
    "mylist=[11,21,31,41,51]\n",
    "max_in_list(mylist)"
   ]
  },
  {
   "cell_type": "code",
   "execution_count": 4,
   "id": "5b411309-09bb-48d6-9265-6fa6dfbed048",
   "metadata": {},
   "outputs": [
    {
     "name": "stdout",
     "output_type": "stream",
     "text": [
      "[5, 5, 4]\n"
     ]
    }
   ],
   "source": [
    "'''\n",
    "3. Write a program that maps a list of words into a list of integers representing the lengths of the\n",
    "correponding words.\n",
    "'''\n",
    "def length(words):\n",
    "    return[len(i) for i in words]  \n",
    "\n",
    "x=[\"hello\",\"rahul\",\"rohu\"]\n",
    "lenghts=length(x)\n",
    "print(lenghts)\n",
    "\n",
    "        \n"
   ]
  },
  {
   "cell_type": "code",
   "execution_count": 40,
   "id": "4daa38c9-867c-4ddf-a85f-e8d8143d6b6a",
   "metadata": {},
   "outputs": [
    {
     "data": {
      "text/plain": [
       "5"
      ]
     },
     "execution_count": 40,
     "metadata": {},
     "output_type": "execute_result"
    }
   ],
   "source": [
    "'''\n",
    "4.Write a function find_longest_word() that takes a list of words and returns the length of the longest\n",
    "one. Modify the same to do with lambda expression.\n",
    "'''\n",
    "def length(words):\n",
    "    return[len(i) for i in words] \n",
    "def find_longest_string(x):\n",
    "    return max(x)\n",
    "    \n",
    "\n",
    "x=[\"hello\",\"hii\",\"jfj\"]\n",
    "find_longest_string(length(x))\n",
    "\n"
   ]
  },
  {
   "cell_type": "code",
   "execution_count": 55,
   "id": "ad6ca5b3-13c6-4b3b-a0ed-e8ee015eab6c",
   "metadata": {},
   "outputs": [
    {
     "data": {
      "text/plain": [
       "['helloo', 'hhhh']"
      ]
     },
     "execution_count": 55,
     "metadata": {},
     "output_type": "execute_result"
    }
   ],
   "source": [
    "'''\n",
    "5. Write a function filter_long_words() that takes a list of words and an integer n and returns the list\n",
    "of words that are longer than n. Modify the same to do with lambda expression.\n",
    "'''\n",
    "def filter_long_words(x,words):\n",
    "    mylist=[]\n",
    "    for i in words:\n",
    "        if(len(i)>x):\n",
    "            mylist.append(i)\n",
    "    return mylist\n",
    "words=[\"helloo\", \"hii\", \"hhhh\",\"l\"]\n",
    "filter_long_words(3,words)"
   ]
  },
  {
   "cell_type": "code",
   "execution_count": 137,
   "id": "4b0bfbb8-9736-45df-8ae0-e52ab274ab60",
   "metadata": {},
   "outputs": [
    {
     "data": {
      "text/plain": [
       "True"
      ]
     },
     "execution_count": 137,
     "metadata": {},
     "output_type": "execute_result"
    }
   ],
   "source": [
    "'''\n",
    "6.Write a version of a palindrome recognizer that also accepts phrase palindromes such as \"Go hang a\n",
    "salami I'm a lasagna hog.\", \"Was it a rat I saw?\", \"Step on no pets\", \"Sit on a potato pan, Otis\", \"Lisa\n",
    "Bonet ate no basil\", \"Satan, oscillate my metallic sonatas\", \"I roamed under it as a tired nude Maori\",\n",
    "\"Rise to vote sir\", or the exclamation \"Dammit, I'm mad!\". Note that punctuation, capitalization, and\n",
    "spacing are usually ignored.\n",
    "'''\n",
    "\n",
    "def palindrome(word):\n",
    "    def ntext(text):\n",
    "        newtext = ''.join(x.lower() for x in text if x.isalnum())\n",
    "        return newtext\n",
    "\n",
    "    newtext = ntext(word)\n",
    "    reverse = newtext[::-1]\n",
    "    return newtext == reverse\n",
    "    \n",
    "text=\"Sit on a potato pan, Otis\"\n",
    "palindrome(text)\n",
    "\n"
   ]
  },
  {
   "cell_type": "code",
   "execution_count": 59,
   "id": "282caf57-e0d8-4da3-b2da-24a44f99f180",
   "metadata": {},
   "outputs": [
    {
     "data": {
      "text/plain": [
       "True"
      ]
     },
     "execution_count": 59,
     "metadata": {},
     "output_type": "execute_result"
    }
   ],
   "source": [
    "'''\n",
    "7.A pangram is a sentence that contains all the letters of the English alphabet at least once, for\n",
    "example: The quick brown fox jumps over the lazy dog. Your task here is to write a function to check\n",
    "a sentence to see if it is a pangram or not.\n",
    "'''\n",
    "def pangram(x):\n",
    "    alphabet=\"qwertyuiopasdfghjklzxcvbnm\"\n",
    "    for i in alphabet:\n",
    "        if i not in x:\n",
    "            return False\n",
    "    return True\n",
    "\n",
    "pangram(\"The quick brown fox jumps over the lazy dog\")\n",
    "        \n",
    "        \n",
    "    "
   ]
  },
  {
   "cell_type": "code",
   "execution_count": 69,
   "id": "d0a86c8c-72dd-4d36-b3ea-022b1fa01345",
   "metadata": {},
   "outputs": [
    {
     "data": {
      "text/plain": [
       "['god', 'gott']"
      ]
     },
     "execution_count": 69,
     "metadata": {},
     "output_type": "execute_result"
    }
   ],
   "source": [
    "'''\n",
    "8. Represent a small bilingual lexicon as a Python dictionary in the following fashion {\"merry\":\"god\",\n",
    "\"christmas\":\"jul\", \"and\":\"och\", \"happy\":gott\", \"new\":\"nytt\", \"year\":\"år\"} and use it to translate your\n",
    "Christmas cards from English into Swedish. That is, write a function translate() that takes a list of\n",
    "English words and returns a list of Swedish words.\n",
    "'''\n",
    "def translate(dicti,mylist):\n",
    "    newlist=[]\n",
    "    for i in dicti:\n",
    "        if i in mylist:\n",
    "            newlist.append(dicti[i])\n",
    "    return newlist\n",
    "\n",
    "dicti= {\"merry\":\"god\",\"christmas\":\"jul\", \"and\":\"och\", \"happy\":\"gott\", \"new\":\"nytt\", \"year\":\"år\"}\n",
    "mylist=[\"merry\",\"happy\"]\n",
    "translate(dicti,mylist)\n",
    "    \n",
    "            "
   ]
  },
  {
   "cell_type": "code",
   "execution_count": 63,
   "id": "19475b76-b2f3-4d2d-a1ab-7ec2e7f1fe34",
   "metadata": {},
   "outputs": [
    {
     "data": {
      "text/plain": [
       "{'a': 4, 'b': 3, 'c': 1}"
      ]
     },
     "execution_count": 63,
     "metadata": {},
     "output_type": "execute_result"
    }
   ],
   "source": [
    "'''\n",
    "9.Write a function char_freq() that takes a string and builds a frequency listing of the characters\n",
    "contained in it. Represent the frequency listing as a Python dictionary. Try it with something\n",
    "likechar_freq(\"abbabcbdbabdbdbabababcbcbab\").\n",
    "'''\n",
    "def char_freq(x):\n",
    "    mydis={}\n",
    "    for i in x:\n",
    "        if( i not in mydis):\n",
    "            mydis[i]=1\n",
    "        else:\n",
    "            mydis[i]+=1\n",
    "    return mydis\n",
    "char_freq(\"aaaabbbc\")\n",
    "    "
   ]
  },
  {
   "cell_type": "code",
   "execution_count": null,
   "id": "43704add-8ece-4805-85f4-78c81c2e7346",
   "metadata": {},
   "outputs": [],
   "source": [
    "'''\n",
    "10.Create a module called mathematics.py and provide subroutines (should be defined generally and\n",
    "should work for any number of arguments) such as:\n",
    "Add Sub\n",
    "Sort the values Max Sort\n",
    "\n",
    "Internal Use - Confidential\n",
    "\n",
    "Use the module in a program and apply the functions on two array variables (say a and b) to:\n",
    "Add two arrays (and store it in c) Subtract two arrays(and store it in d)\n",
    "Find the minimum and maximum value of the resultant array (c or d) Sort the resultant array(c or d)\n",
    "'''\n"
   ]
  }
 ],
 "metadata": {
  "kernelspec": {
   "display_name": "Python 3 (ipykernel)",
   "language": "python",
   "name": "python3"
  },
  "language_info": {
   "codemirror_mode": {
    "name": "ipython",
    "version": 3
   },
   "file_extension": ".py",
   "mimetype": "text/x-python",
   "name": "python",
   "nbconvert_exporter": "python",
   "pygments_lexer": "ipython3",
   "version": "3.9.13"
  }
 },
 "nbformat": 4,
 "nbformat_minor": 5
}
