{
 "cells": [
  {
   "cell_type": "code",
   "execution_count": 4,
   "id": "2ce0fd32",
   "metadata": {},
   "outputs": [
    {
     "data": {
      "text/plain": [
       "15"
      ]
     },
     "execution_count": 4,
     "metadata": {},
     "output_type": "execute_result"
    }
   ],
   "source": [
    "#lambda function\n",
    "#annoymus function\n",
    "#name(gumnam)\n",
    "#lambda se start \n",
    "#lambda\n",
    "'''\n",
    "def func(x):\n",
    "    return x+10\n",
    "'''\n",
    "x=lambda x:x+10\n",
    "x(5)"
   ]
  },
  {
   "cell_type": "code",
   "execution_count": 5,
   "id": "e9e10db9",
   "metadata": {},
   "outputs": [
    {
     "data": {
      "text/plain": [
       "[100, 400, 900, 1600, 2500]"
      ]
     },
     "execution_count": 5,
     "metadata": {},
     "output_type": "execute_result"
    }
   ],
   "source": [
    "#map  filter, reduce\n",
    "# map(func, iteerable<list>)\n",
    "\n",
    "def square(x):\n",
    "    return x*x\n",
    "\n",
    "mylist=[10,20,30,40,50]\n",
    "list(  map(square,mylist))"
   ]
  },
  {
   "cell_type": "code",
   "execution_count": 6,
   "id": "3e8aa58c",
   "metadata": {},
   "outputs": [
    {
     "data": {
      "text/plain": [
       "[100, 400, 900, 1600, 2500]"
      ]
     },
     "execution_count": 6,
     "metadata": {},
     "output_type": "execute_result"
    }
   ],
   "source": [
    "mylist=[10,20,30,40,50]\n",
    "list(  map(lambda x:x*x,mylist))"
   ]
  },
  {
   "cell_type": "code",
   "execution_count": 7,
   "id": "7a95a17a",
   "metadata": {},
   "outputs": [
    {
     "data": {
      "text/plain": [
       "[10, 20, 30, 40, 50]"
      ]
     },
     "execution_count": 7,
     "metadata": {},
     "output_type": "execute_result"
    }
   ],
   "source": [
    "mylist=[10,20,30,40,50,9,11]\n",
    "list(  filter(lambda x:x%2==0,mylist))"
   ]
  },
  {
   "cell_type": "code",
   "execution_count": 16,
   "id": "97881031",
   "metadata": {},
   "outputs": [
    {
     "name": "stdout",
     "output_type": "stream",
     "text": [
      "hey rahul choudhary \n"
     ]
    }
   ],
   "source": [
    "#file handling:open\n",
    "#              read/write\n",
    "#              close\n",
    "#r =>read\n",
    "fileobj =open(\"regex.txt\")\n",
    "x=fileobj.read()\n",
    "fileobj.close()\n",
    "print(x)"
   ]
  },
  {
   "cell_type": "code",
   "execution_count": 18,
   "id": "441acf5f",
   "metadata": {},
   "outputs": [
    {
     "name": "stdout",
     "output_type": "stream",
     "text": [
      "hey rahul choudhary \n"
     ]
    }
   ],
   "source": [
    "#read and write\n",
    "fileobj =open(\"regex.txt\",\"r+\")\n",
    "x=fileobj.read()\n",
    "fileobj.write(\"rahul\")\n",
    "fileobj.close()\n",
    "print(x)"
   ]
  },
  {
   "cell_type": "code",
   "execution_count": 22,
   "id": "3a3c992c",
   "metadata": {},
   "outputs": [
    {
     "name": "stdout",
     "output_type": "stream",
     "text": [
      "0\n",
      "after write 2\n",
      "hul\n"
     ]
    }
   ],
   "source": [
    "#write (w):remove existing content and make new \n",
    "fileobj =open(\"regex.txt\",\"w+\")\n",
    "\n",
    "print( fileobj.tell() )#to check the postion of the cursor\n",
    "\n",
    "fileobj.write(\"rahul\")\n",
    "fileobj.seek(2)#to change the position of the cursor\n",
    "print(\"after write\", fileobj.tell() )\n",
    "x=fileobj.read()\n",
    "fileobj.close()\n",
    "print(x)\n"
   ]
  },
  {
   "cell_type": "code",
   "execution_count": 24,
   "id": "fac2ae7f",
   "metadata": {},
   "outputs": [
    {
     "name": "stdout",
     "output_type": "stream",
     "text": [
      "rahul\n"
     ]
    }
   ],
   "source": [
    "#using with keyword\n",
    "with open(\"regex.txt\",\"r\") as fileobj:\n",
    "    x=fileobj.read()\n",
    "    \n",
    "print(x)"
   ]
  },
  {
   "cell_type": "code",
   "execution_count": 28,
   "id": "832dd78b",
   "metadata": {},
   "outputs": [
    {
     "name": "stdout",
     "output_type": "stream",
     "text": [
      "rahul\n",
      "hey\n",
      "abcd\n",
      "ajay\n"
     ]
    }
   ],
   "source": [
    "#using with keyword\n",
    "with open(\"regex.txt\",\"r\") as fileobj:\n",
    "    for line in fileobj.readlines():\n",
    "        print( line.strip() )\n",
    "   # print(fileobj.readline())#to read line by line\n",
    "    \n",
    "#print(x)"
   ]
  },
  {
   "cell_type": "code",
   "execution_count": 38,
   "id": "9bc9ce3c",
   "metadata": {},
   "outputs": [
    {
     "name": "stdout",
     "output_type": "stream",
     "text": [
      "1,rahul,500\n",
      "2,aman,100\n",
      "3,ajay,2000\n"
     ]
    }
   ],
   "source": [
    "with open(\"regex.txt\",\"r\") as fileobj:\n",
    "    for line in fileobj.readlines():\n",
    "        print(line.strip() )"
   ]
  },
  {
   "cell_type": "code",
   "execution_count": 44,
   "id": "9a7b5646",
   "metadata": {},
   "outputs": [
    {
     "ename": "SyntaxError",
     "evalue": "expression cannot contain assignment, perhaps you meant \"==\"? (2325618768.py, line 8)",
     "output_type": "error",
     "traceback": [
      "\u001b[1;36m  File \u001b[1;32m\"C:\\Users\\RAHUL CHOUDHARY\\AppData\\Local\\Temp\\ipykernel_22400\\2325618768.py\"\u001b[1;36m, line \u001b[1;32m8\u001b[0m\n\u001b[1;33m    print(\"id\"=id,name)\u001b[0m\n\u001b[1;37m          ^\u001b[0m\n\u001b[1;31mSyntaxError\u001b[0m\u001b[1;31m:\u001b[0m expression cannot contain assignment, perhaps you meant \"==\"?\n"
     ]
    }
   ],
   "source": [
    "import csv\n",
    "fileobj= open(\"regex.txt\")\n",
    "f=csv.reader(fileobj)\n",
    "\n",
    "for i in f:\n",
    "   # print(i)\n",
    "    id,name,salary=i\n",
    "    print(id,name)"
   ]
  }
 ],
 "metadata": {
  "kernelspec": {
   "display_name": "Python 3 (ipykernel)",
   "language": "python",
   "name": "python3"
  },
  "language_info": {
   "codemirror_mode": {
    "name": "ipython",
    "version": 3
   },
   "file_extension": ".py",
   "mimetype": "text/x-python",
   "name": "python",
   "nbconvert_exporter": "python",
   "pygments_lexer": "ipython3",
   "version": "3.9.13"
  }
 },
 "nbformat": 4,
 "nbformat_minor": 5
}
