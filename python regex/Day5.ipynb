{
 "cells": [
  {
   "cell_type": "code",
   "execution_count": 4,
   "id": "741dd8e8",
   "metadata": {},
   "outputs": [
    {
     "data": {
      "text/plain": [
       "15"
      ]
     },
     "execution_count": 4,
     "metadata": {},
     "output_type": "execute_result"
    }
   ],
   "source": [
    "#lambda function\n",
    "#annoymus function\n",
    "#name(gumnam)\n",
    "#lambda se start \n",
    "#lambda\n",
    "'''\n",
    "def func(x):\n",
    "    return x+10\n",
    "'''\n",
    "x=lambda x:x+10\n",
    "x(5)"
   ]
  },
  {
   "cell_type": "code",
   "execution_count": 5,
   "id": "302ad8f8",
   "metadata": {},
   "outputs": [
    {
     "data": {
      "text/plain": [
       "[100, 400, 900, 1600, 2500]"
      ]
     },
     "execution_count": 5,
     "metadata": {},
     "output_type": "execute_result"
    }
   ],
   "source": [
    "#map  filter, reduce\n",
    "# map(func, iteerable<list>)\n",
    "\n",
    "def square(x):\n",
    "    return x*x\n",
    "\n",
    "mylist=[10,20,30,40,50]\n",
    "list(  map(square,mylist))"
   ]
  },
  {
   "cell_type": "code",
   "execution_count": 6,
   "id": "4d675f83",
   "metadata": {},
   "outputs": [
    {
     "data": {
      "text/plain": [
       "[100, 400, 900, 1600, 2500]"
      ]
     },
     "execution_count": 6,
     "metadata": {},
     "output_type": "execute_result"
    }
   ],
   "source": [
    "mylist=[10,20,30,40,50]\n",
    "list(  map(lambda x:x*x,mylist))"
   ]
  },
  {
   "cell_type": "code",
   "execution_count": 7,
   "id": "31a5669e",
   "metadata": {},
   "outputs": [
    {
     "data": {
      "text/plain": [
       "[10, 20, 30, 40, 50]"
      ]
     },
     "execution_count": 7,
     "metadata": {},
     "output_type": "execute_result"
    }
   ],
   "source": [
    "mylist=[10,20,30,40,50,9,11]\n",
    "list(  filter(lambda x:x%2==0,mylist))"
   ]
  },
  {
   "cell_type": "code",
   "execution_count": 16,
   "id": "bde1c070",
   "metadata": {},
   "outputs": [
    {
     "name": "stdout",
     "output_type": "stream",
     "text": [
      "hey rahul choudhary \n"
     ]
    }
   ],
   "source": [
    "#file handling:open\n",
    "#              read/write\n",
    "#              close\n",
    "#r =>read\n",
    "fileobj =open(\"regex.txt\")\n",
    "x=fileobj.read()\n",
    "fileobj.close()\n",
    "print(x)"
   ]
  },
  {
   "cell_type": "code",
   "execution_count": 18,
   "id": "c0fb28d2",
   "metadata": {},
   "outputs": [
    {
     "name": "stdout",
     "output_type": "stream",
     "text": [
      "hey rahul choudhary \n"
     ]
    }
   ],
   "source": [
    "#read and write\n",
    "fileobj =open(\"regex.txt\",\"r+\")\n",
    "x=fileobj.read()\n",
    "fileobj.write(\"rahul\")\n",
    "fileobj.close()\n",
    "print(x)"
   ]
  },
  {
   "cell_type": "code",
   "execution_count": 22,
   "id": "91c06abd",
   "metadata": {},
   "outputs": [
    {
     "name": "stdout",
     "output_type": "stream",
     "text": [
      "0\n",
      "after write 2\n",
      "hul\n"
     ]
    }
   ],
   "source": [
    "#write (w):remove existing content and make new \n",
    "fileobj =open(\"regex.txt\",\"w+\")\n",
    "\n",
    "print( fileobj.tell() )#to check the postion of the cursor\n",
    "\n",
    "fileobj.write(\"rahul\")\n",
    "fileobj.seek(2)#to change the position of the cursor\n",
    "print(\"after write\", fileobj.tell() )\n",
    "x=fileobj.read()\n",
    "fileobj.close()\n",
    "print(x)\n"
   ]
  },
  {
   "cell_type": "code",
   "execution_count": 24,
   "id": "3b027dca",
   "metadata": {},
   "outputs": [
    {
     "name": "stdout",
     "output_type": "stream",
     "text": [
      "rahul\n"
     ]
    }
   ],
   "source": [
    "#using with keyword\n",
    "with open(\"regex.txt\",\"r\") as fileobj:\n",
    "    x=fileobj.read()\n",
    "    \n",
    "print(x)"
   ]
  },
  {
   "cell_type": "code",
   "execution_count": 28,
   "id": "c229abdd",
   "metadata": {},
   "outputs": [
    {
     "name": "stdout",
     "output_type": "stream",
     "text": [
      "rahul\n",
      "hey\n",
      "abcd\n",
      "ajay\n"
     ]
    }
   ],
   "source": [
    "#using with keyword\n",
    "with open(\"regex.txt\",\"r\") as fileobj:\n",
    "    for line in fileobj.readlines():\n",
    "        print( line.strip() )\n",
    "   # print(fileobj.readline())#to read line by line\n",
    "    \n",
    "#print(x)"
   ]
  },
  {
   "cell_type": "code",
   "execution_count": 38,
   "id": "57b7e454",
   "metadata": {},
   "outputs": [
    {
     "name": "stdout",
     "output_type": "stream",
     "text": [
      "1,rahul,500\n",
      "2,aman,100\n",
      "3,ajay,2000\n"
     ]
    }
   ],
   "source": [
    "with open(\"regex.txt\",\"r\") as fileobj:\n",
    "    for line in fileobj.readlines():\n",
    "        print(line.strip() )"
   ]
  },
  {
   "cell_type": "code",
   "execution_count": 45,
   "id": "9ba189cb",
   "metadata": {},
   "outputs": [
    {
     "name": "stdout",
     "output_type": "stream",
     "text": [
      "1 rahul\n",
      "2 aman\n",
      "3 ajay\n"
     ]
    }
   ],
   "source": [
    "import csv\n",
    "fileobj= open(\"regex.txt\")\n",
    "f=csv.reader(fileobj)\n",
    "\n",
    "for i in f:\n",
    "   # print(i)\n",
    "    id,name,salary=i\n",
    "    print(id,name)"
   ]
  },
  {
   "cell_type": "code",
   "execution_count": 49,
   "id": "54569616",
   "metadata": {},
   "outputs": [
    {
     "name": "stdout",
     "output_type": "stream",
     "text": [
      "hello\n"
     ]
    },
    {
     "ename": "ZeroDivisionError",
     "evalue": "division by zero",
     "output_type": "error",
     "traceback": [
      "\u001b[1;31m---------------------------------------------------------------------------\u001b[0m",
      "\u001b[1;31mZeroDivisionError\u001b[0m                         Traceback (most recent call last)",
      "\u001b[1;32m~\\AppData\\Local\\Temp\\ipykernel_22400\\1532471640.py\u001b[0m in \u001b[0;36m<module>\u001b[1;34m\u001b[0m\n\u001b[0;32m      1\u001b[0m \u001b[0mprint\u001b[0m\u001b[1;33m(\u001b[0m\u001b[1;34m\"hello\"\u001b[0m\u001b[1;33m)\u001b[0m\u001b[1;33m\u001b[0m\u001b[1;33m\u001b[0m\u001b[0m\n\u001b[0;32m      2\u001b[0m \u001b[0mx\u001b[0m\u001b[1;33m=\u001b[0m\u001b[1;36m10\u001b[0m\u001b[1;33m\u001b[0m\u001b[1;33m\u001b[0m\u001b[0m\n\u001b[1;32m----> 3\u001b[1;33m \u001b[0mx\u001b[0m\u001b[1;33m/\u001b[0m\u001b[1;36m0\u001b[0m\u001b[1;33m\u001b[0m\u001b[1;33m\u001b[0m\u001b[0m\n\u001b[0m\u001b[0;32m      4\u001b[0m \u001b[0mprint\u001b[0m\u001b[1;33m(\u001b[0m\u001b[1;34m\"hey\"\u001b[0m\u001b[1;33m)\u001b[0m\u001b[1;33m\u001b[0m\u001b[1;33m\u001b[0m\u001b[0m\n",
      "\u001b[1;31mZeroDivisionError\u001b[0m: division by zero"
     ]
    }
   ],
   "source": [
    "print(\"hello\")\n",
    "x=10\n",
    "x/0\n",
    "print(\"hey\")"
   ]
  },
  {
   "cell_type": "code",
   "execution_count": 58,
   "id": "3f5e92d0",
   "metadata": {},
   "outputs": [
    {
     "name": "stdout",
     "output_type": "stream",
     "text": [
      "hello\n",
      "error handled: name 'num' is not defined\n"
     ]
    }
   ],
   "source": [
    "#exception handling\n",
    "#try    except\n",
    "try:\n",
    "    print(\"hello\")\n",
    "    x=10\n",
    "    x/num\n",
    "    print(\"hey\")\n",
    "except (ZeroDivisionError,NameError) as z:\n",
    "    print(\"error handled:\",z)\n",
    "    \n"
   ]
  },
  {
   "cell_type": "code",
   "execution_count": 62,
   "id": "c0ffc5de",
   "metadata": {},
   "outputs": [
    {
     "name": "stdout",
     "output_type": "stream",
     "text": [
      "hello\n",
      "string index out of range :error occuring\n"
     ]
    }
   ],
   "source": [
    "try:\n",
    "    print(\"hello\")\n",
    "    x=\"rahul\"\n",
    "    x[10]\n",
    "    print(\"hey\")\n",
    "except (ZeroDivisionError,NameError) as z:\n",
    "    print(\"error handled:\",z)\n",
    "    \n",
    "except Exception as e:\n",
    "    print(e, \":error occuring\")"
   ]
  },
  {
   "cell_type": "code",
   "execution_count": 60,
   "id": "d0cd6b4a",
   "metadata": {},
   "outputs": [
    {
     "name": "stdout",
     "output_type": "stream",
     "text": [
      "hello\n",
      "dividing it by num\n",
      "hey\n"
     ]
    }
   ],
   "source": [
    "try:\n",
    "    print(\"hello\")\n",
    "    x=\"rahul\"\n",
    "    try:\n",
    "        x/num\n",
    "    except:\n",
    "        print(\"dividing it by num\")\n",
    "    print(\"hey\")\n",
    "except (ZeroDivisionError,NameError) as z:\n",
    "    print(\"error handled:\",z)\n",
    "    \n",
    "except Exception as e:\n",
    "    print(e, \":error occuring\")"
   ]
  },
  {
   "cell_type": "code",
   "execution_count": null,
   "id": "f5289726",
   "metadata": {},
   "outputs": [],
   "source": []
  },
  {
   "cell_type": "code",
   "execution_count": 63,
   "id": "0434771d",
   "metadata": {},
   "outputs": [
    {
     "ename": "SyntaxError",
     "evalue": "unexpected character after line continuation character (423858339.py, line 4)",
     "output_type": "error",
     "traceback": [
      "\u001b[1;36m  File \u001b[1;32m\"C:\\Users\\RAHUL CHOUDHARY\\AppData\\Local\\Temp\\ipykernel_22400\\423858339.py\"\u001b[1;36m, line \u001b[1;32m4\u001b[0m\n\u001b[1;33m    x\\0\u001b[0m\n\u001b[1;37m      ^\u001b[0m\n\u001b[1;31mSyntaxError\u001b[0m\u001b[1;31m:\u001b[0m unexpected character after line continuation character\n"
     ]
    }
   ],
   "source": [
    "#using a python script open instagram in your browser and fill the details automaticallly to sign up and make your ig account.\n",
    "#create a function which will take a no. from the use and once the no.provided you have to drop the same no. of messages to your frnd on whatsapp."
   ]
  }
 ],
 "metadata": {
  "kernelspec": {
   "display_name": "Python 3 (ipykernel)",
   "language": "python",
   "name": "python3"
  },
  "language_info": {
   "codemirror_mode": {
    "name": "ipython",
    "version": 3
   },
   "file_extension": ".py",
   "mimetype": "text/x-python",
   "name": "python",
   "nbconvert_exporter": "python",
   "pygments_lexer": "ipython3",
   "version": "3.9.13"
  }
 },
 "nbformat": 4,
 "nbformat_minor": 5
}
