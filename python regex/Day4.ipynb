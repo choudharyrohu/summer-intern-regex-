{
 "cells": [
  {
   "cell_type": "code",
   "execution_count": null,
   "id": "4e2fc958",
   "metadata": {},
   "outputs": [],
   "source": [
    "#functions:block of codes => reuse\n"
   ]
  },
  {
   "cell_type": "code",
   "execution_count": 1,
   "id": "08ad7054",
   "metadata": {},
   "outputs": [
    {
     "data": {
      "text/plain": [
       "'\\ndef func():\\n   statement\\n\\n'"
      ]
     },
     "execution_count": 1,
     "metadata": {},
     "output_type": "execute_result"
    }
   ],
   "source": [
    "'''\n",
    "def func():\n",
    "   statement\n",
    "\n",
    "'''"
   ]
  },
  {
   "cell_type": "code",
   "execution_count": 7,
   "id": "7be56472",
   "metadata": {},
   "outputs": [],
   "source": [
    "#x is parameter\n",
    "def msg(x):\n",
    "    print(\"hello\",x)"
   ]
  },
  {
   "cell_type": "code",
   "execution_count": null,
   "id": "4c975919",
   "metadata": {},
   "outputs": [],
   "source": []
  },
  {
   "cell_type": "code",
   "execution_count": 9,
   "id": "060b3896",
   "metadata": {},
   "outputs": [
    {
     "name": "stdout",
     "output_type": "stream",
     "text": [
      "hello rahul\n",
      "hello aman\n"
     ]
    }
   ],
   "source": [
    "#\"rahul\" / aman => argument\n",
    "msg(\"rahul\")  \n",
    "msg(\"aman\")"
   ]
  },
  {
   "cell_type": "code",
   "execution_count": 10,
   "id": "0139c6b7",
   "metadata": {},
   "outputs": [
    {
     "name": "stdout",
     "output_type": "stream",
     "text": [
      "x and y: 10 20\n",
      "x and y: 20 40\n"
     ]
    }
   ],
   "source": [
    "def msg(x,y):\n",
    "    print(\"x and y:\",x,y)\n",
    "    \n",
    "msg(10,20)\n",
    "msg(20,40)"
   ]
  },
  {
   "cell_type": "code",
   "execution_count": 12,
   "id": "5d399245",
   "metadata": {},
   "outputs": [
    {
     "name": "stdout",
     "output_type": "stream",
     "text": [
      "before func: 10\n",
      "after func : 10\n"
     ]
    }
   ],
   "source": [
    "def func(x):\n",
    "    x=x+5\n",
    "    \n",
    "x=10\n",
    "print(\"before func:\",x)\n",
    "func(x)\n",
    "print(\"after func :\",x)\n"
   ]
  },
  {
   "cell_type": "code",
   "execution_count": 15,
   "id": "d3992761",
   "metadata": {},
   "outputs": [
    {
     "name": "stdout",
     "output_type": "stream",
     "text": [
      "mylist [10, 20] 2766522576768\n",
      "[10, 20] 2766522576768\n",
      "['aman', 20]\n"
     ]
    }
   ],
   "source": [
    "def func(x):\n",
    "    print(x,id(x))\n",
    "    x[0]=\"aman\"\n",
    "    \n",
    "mylist=[10,20]\n",
    "print(\"mylist\",mylist, id(mylist))\n",
    "func(mylist)\n",
    "print(mylist)"
   ]
  },
  {
   "cell_type": "code",
   "execution_count": 5,
   "id": "a6d9bedf",
   "metadata": {},
   "outputs": [
    {
     "name": "stdout",
     "output_type": "stream",
     "text": [
      "lcm is : 90\n"
     ]
    }
   ],
   "source": [
    "#finding the lcm of two no.\n",
    "def lcm(x,y):\n",
    "    if(x>y):\n",
    "        greatest=x\n",
    "    else:  \n",
    "        greatest=y\n",
    "    while(True):\n",
    "        \n",
    "        if(greatest%x==0 and greatest%y==0):\n",
    "            print(\"lcm is :\",greatest)\n",
    "            return\n",
    "        else:\n",
    "            greatest+=1\n",
    "    \n",
    "lcm(10,9)"
   ]
  },
  {
   "cell_type": "code",
   "execution_count": 10,
   "id": "554e1f18",
   "metadata": {},
   "outputs": [
    {
     "name": "stdout",
     "output_type": "stream",
     "text": [
      "Eid is:1 \n",
      "Ename is rahul \n",
      "Email is: rahulsolet2002@gmail.com\n"
     ]
    }
   ],
   "source": [
    "#type of arguments\n",
    "#required\n",
    "def employee(eid, ename, email):\n",
    "    print(f\"Eid is:{eid} \\nEname is {ename} \\nEmail is: {email}\")\n",
    "    \n",
    "employee(1,\"rahul\",\"rahulsolet2002@gmail.com\")"
   ]
  },
  {
   "cell_type": "code",
   "execution_count": null,
   "id": "5d3348e9",
   "metadata": {},
   "outputs": [],
   "source": []
  },
  {
   "cell_type": "code",
   "execution_count": null,
   "id": "52d25d40",
   "metadata": {},
   "outputs": [],
   "source": []
  },
  {
   "cell_type": "code",
   "execution_count": 12,
   "id": "377198d6",
   "metadata": {},
   "outputs": [
    {
     "name": "stdout",
     "output_type": "stream",
     "text": [
      "Eid is:rahul \n",
      "Ename is rahulsolet2002@gmail.com \n",
      "Email is: 90\n"
     ]
    }
   ],
   "source": [
    "#positional argument\n",
    "def employee(eid, ename, email):\n",
    "    print(f\"Eid is:{eid} \\nEname is {ename} \\nEmail is: {email}\")\n",
    "    \n",
    "employee(\"rahul\",\"rahulsolet2002@gmail.com\",90)"
   ]
  },
  {
   "cell_type": "code",
   "execution_count": 13,
   "id": "e599e7a4",
   "metadata": {},
   "outputs": [
    {
     "name": "stdout",
     "output_type": "stream",
     "text": [
      "Eid is:90 \n",
      "Ename is rahul \n",
      "Email is: rahulsolet2002@gmail.com\n"
     ]
    }
   ],
   "source": [
    "#keyword argument\n",
    "def employee(eid, ename, email):\n",
    "    print(f\"Eid is:{eid} \\nEname is {ename} \\nEmail is: {email}\")\n",
    "    \n",
    "employee(ename=\"rahul\",email=\"rahulsolet2002@gmail.com\",eid=90)"
   ]
  },
  {
   "cell_type": "code",
   "execution_count": 15,
   "id": "e7226c5c",
   "metadata": {},
   "outputs": [
    {
     "name": "stdout",
     "output_type": "stream",
     "text": [
      "Eid is:90 \n",
      "Ename is rahul \n",
      "Email is: rahul123@gmail.com\n",
      "Eid is:180 \n",
      "Ename is aman \n",
      "Email is: rahul2002@gmail.com\n"
     ]
    }
   ],
   "source": [
    "#default argument\n",
    "def employee(eid, ename, email=\"rahul123@gmail.com\"):\n",
    "    print(f\"Eid is:{eid} \\nEname is {ename} \\nEmail is: {email}\")\n",
    "    \n",
    "employee(90,\"rahul\")\n",
    "employee(180,\"aman\",\"rahul2002@gmail.com\")"
   ]
  },
  {
   "cell_type": "code",
   "execution_count": 20,
   "id": "3dee30c7",
   "metadata": {},
   "outputs": [
    {
     "name": "stdout",
     "output_type": "stream",
     "text": [
      "('rahulsolet2002@gmail.com', 'regex', 100) <class 'tuple'>\n",
      "('amazon', 'ram') <class 'tuple'>\n"
     ]
    }
   ],
   "source": [
    "#variable length argument\n",
    "#\n",
    "def facebook(*data):\n",
    "    print(data, type(data))\n",
    "    \n",
    "facebook(\"rahulsolet2002@gmail.com\",\"regex\",100)\n",
    "facebook(\"amazon\",\"ram\")"
   ]
  },
  {
   "cell_type": "code",
   "execution_count": 25,
   "id": "41f186a7",
   "metadata": {},
   "outputs": [
    {
     "name": "stdout",
     "output_type": "stream",
     "text": [
      "{'username': 'rahul123@gmail.com', 'salary': 10000} <class 'dict'>\n",
      "{'salary': 150, 'username': 'rahul'} <class 'dict'>\n"
     ]
    }
   ],
   "source": [
    "#keyword variable length\n",
    "#args=argument(tuple)  ,kwargs=keyword variable(dictionary)\n",
    "def facebook(**data):\n",
    "    print(data, type(data))\n",
    "    \n",
    "facebook(username=\"rahul123@gmail.com\", salary=10000)\n",
    "facebook(salary=150, username=\"rahul\")\n",
    "    "
   ]
  },
  {
   "cell_type": "code",
   "execution_count": 26,
   "id": "114e2381",
   "metadata": {},
   "outputs": [
    {
     "name": "stdout",
     "output_type": "stream",
     "text": [
      "<function func at 0x000001E11087ACA0>\n",
      "<function func at 0x000001E11087ACA0>\n",
      "hello\n"
     ]
    }
   ],
   "source": [
    "def func():\n",
    "    print(\"hello\")\n",
    "    \n",
    "x=func\n",
    "print(func)\n",
    "print(x)\n",
    "x()"
   ]
  },
  {
   "cell_type": "code",
   "execution_count": 30,
   "id": "700b3f52",
   "metadata": {},
   "outputs": [
    {
     "name": "stdout",
     "output_type": "stream",
     "text": [
      "100\n",
      "25\n",
      "10 None\n"
     ]
    }
   ],
   "source": [
    "#high order function\n",
    "#which take another function as argument\n",
    "def square(x):\n",
    "    print(x*x)\n",
    "    \n",
    "def addNo(x,func):\n",
    "    print(x, func)\n",
    "square(10)    \n",
    "#addNo(10,20)\n",
    "addNo(10, square(5))    "
   ]
  },
  {
   "cell_type": "code",
   "execution_count": 31,
   "id": "f4068a67",
   "metadata": {},
   "outputs": [
    {
     "name": "stdout",
     "output_type": "stream",
     "text": [
      "Output List using for loop: [2, 4, 4, 6]\n"
     ]
    }
   ],
   "source": [
    "#List Comprehensions\n",
    "#List Comprehensions provide an elegant way to create new lists. The following is the basic structure of list comprehension:\n",
    "\n",
    "#Syntax: output_list = [output_exp for var in input_list if (var satisfies this condition)]\n",
    "\n",
    "#Note that list comprehension may or may not contain an if condition. List comprehensions can contain multiple\n",
    "\n",
    "#Example 1: Generating an Even list WITHOUT using List comprehensions\n",
    "\n",
    "input_list = [1, 2, 3, 4, 4, 5, 6, 7, 7]\n",
    "output_list = []\n",
    "\n",
    "for var in input_list:\n",
    "    if var % 2 == 0:\n",
    "        output_list.append(var)\n",
    "\n",
    "print(\"Output List using for loop:\", output_list)\n"
   ]
  },
  {
   "cell_type": "code",
   "execution_count": 32,
   "id": "9cb1a961",
   "metadata": {},
   "outputs": [
    {
     "name": "stdout",
     "output_type": "stream",
     "text": [
      "Output List using list comprehensions: [2, 4, 4, 6]\n"
     ]
    }
   ],
   "source": [
    "#Example 2: Generating Even list using List comprehensions\n",
    "\n",
    "input_list = [1, 2, 3, 4, 4, 5, 6, 7, 7]\n",
    "\n",
    "list_using_comp = [var for var in input_list if var % 2 == 0]\n",
    "\n",
    "print(\"Output List using list comprehensions:\",\n",
    "                    list_using_comp)\n"
   ]
  },
  {
   "cell_type": "code",
   "execution_count": 35,
   "id": "91ab904d",
   "metadata": {},
   "outputs": [
    {
     "name": "stdout",
     "output_type": "stream",
     "text": [
      "Output Set using for loop: {2, 4, 6}\n"
     ]
    }
   ],
   "source": [
    "#Set Comprehensions\n",
    "#Set comprehensions are pretty similar to list comprehensions. The only difference between them is that set comprehensions use curly brackets { }\n",
    "\n",
    "#Example 1 : Checking Even number Without using set comprehension\n",
    "\n",
    "input_list = [1, 2, 3, 4, 4, 5, 6, 6, 6, 7, 7]\n",
    "\n",
    "output_set = set()\n",
    "\n",
    "for var in input_list:\n",
    "    if var % 2 == 0:\n",
    "        output_set.add(var)\n",
    "\n",
    "print(\"Output Set using for loop:\", output_set)\n",
    "\n"
   ]
  },
  {
   "cell_type": "code",
   "execution_count": 36,
   "id": "3b058594",
   "metadata": {},
   "outputs": [
    {
     "name": "stdout",
     "output_type": "stream",
     "text": [
      "Output Set using set comprehensions: {2, 4, 6}\n"
     ]
    }
   ],
   "source": [
    "#Example 2: Checking Even number using set comprehension\n",
    "\n",
    "input_list = [1, 2, 3, 4, 4, 5, 6, 6, 6, 7, 7]\n",
    "\n",
    "set_using_comp = {var for var in input_list if var % 2 == 0}\n",
    "\n",
    "print(\"Output Set using set comprehensions:\",\n",
    "                                set_using_comp)\n"
   ]
  }
 ],
 "metadata": {
  "kernelspec": {
   "display_name": "Python 3 (ipykernel)",
   "language": "python",
   "name": "python3"
  },
  "language_info": {
   "codemirror_mode": {
    "name": "ipython",
    "version": 3
   },
   "file_extension": ".py",
   "mimetype": "text/x-python",
   "name": "python",
   "nbconvert_exporter": "python",
   "pygments_lexer": "ipython3",
   "version": "3.9.13"
  }
 },
 "nbformat": 4,
 "nbformat_minor": 5
}
