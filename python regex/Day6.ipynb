{
 "cells": [
  {
   "cell_type": "code",
   "execution_count": null,
   "id": "0f1046a9",
   "metadata": {},
   "outputs": [],
   "source": [
    "#Class & Object\n",
    "#Object =>real world entity\n",
    "#one class have multiple objects.\n",
    "#class is a blueprint of object.\n"
   ]
  },
  {
   "cell_type": "code",
   "execution_count": 30,
   "id": "f77ae00e",
   "metadata": {},
   "outputs": [],
   "source": [
    "class House:\n",
    "    color=\"yellow\"\n",
    "    rooms=5\n",
    "    \n",
    "    def info(self):\n",
    "        print(\"House has\",self.color ,self.rooms)"
   ]
  },
  {
   "cell_type": "code",
   "execution_count": 27,
   "id": "f522e167",
   "metadata": {},
   "outputs": [
    {
     "name": "stdout",
     "output_type": "stream",
     "text": [
      "House has yellow 5\n"
     ]
    }
   ],
   "source": [
    "#object\n",
    "h1=House()\n",
    "h1.info()\n",
    "#print( h1.color, h1.rooms)"
   ]
  },
  {
   "cell_type": "code",
   "execution_count": 32,
   "id": "509aaad2",
   "metadata": {},
   "outputs": [
    {
     "name": "stdout",
     "output_type": "stream",
     "text": [
      "House has yellow 10\n"
     ]
    }
   ],
   "source": [
    "#object h2 of class house\n",
    "h2=House()\n",
    "h2.rooms=10\n",
    "h2.info()\n",
    "#print(h2.rooms)"
   ]
  },
  {
   "cell_type": "code",
   "execution_count": 48,
   "id": "5a8c72d8",
   "metadata": {},
   "outputs": [
    {
     "name": "stdout",
     "output_type": "stream",
     "text": [
      "hello abc yellow\n",
      "hello abc green\n",
      "yellow 5\n"
     ]
    }
   ],
   "source": [
    "#function\n",
    "#object => memory assign karwate\n",
    "#object variable => initialize\n",
    "\n",
    "class House:\n",
    "    def __init__(self,color,room):#constructor#(self ki jagh koi or bi name deskte h vo bi self ki trh hi kam krega)\n",
    "        self.hcolor=color\n",
    "        self.hroom=room\n",
    "        print(\"hello abc\",color)# \"self\" me current object ki memory jati \n",
    "\n",
    "#object        \n",
    "h1=House(\"yellow\",5)\n",
    "#print(h1)\n",
    "h2=House(\"green\",2)\n",
    "#print(h2)\n",
    "print(h1.hcolor, h1.hroom)"
   ]
  },
  {
   "cell_type": "code",
   "execution_count": 56,
   "id": "5fa36fdc",
   "metadata": {},
   "outputs": [
    {
     "name": "stdout",
     "output_type": "stream",
     "text": [
      "House has yellow 5\n"
     ]
    }
   ],
   "source": [
    "class House:\n",
    "    def __init__(self,color,room):\n",
    "        self.hcolor=color\n",
    "        self.hroom=room\n",
    "    def info(self):\n",
    "        print(\"House has\",self.hcolor ,self.hroom)\n",
    "h1=House(\"yellow\",5)\n",
    "h1.info()\n",
    "        "
   ]
  },
  {
   "cell_type": "code",
   "execution_count": 64,
   "id": "b2228a2e",
   "metadata": {},
   "outputs": [
    {
     "name": "stdout",
     "output_type": "stream",
     "text": [
      "name rahul domain: gmail.com salary 20000\n"
     ]
    }
   ],
   "source": [
    "#class employee\n",
    "#eid,ename,email,company,salary =>instance varible\n",
    "\n",
    "#also create a function which will print the name ,the domain name and the monthly salary of the user \n",
    "\n",
    "#\"yash@yahoo.com\" => yahoo.com\n",
    "\n",
    "class employee:\n",
    "    def __init__(self,eid,ename,email,company,salary):\n",
    "        self.empid=eid\n",
    "        self.empname=ename\n",
    "        self.empemail=email\n",
    "        self.ecompany=company\n",
    "        self.esalary=salary\n",
    "    def info(self):\n",
    "        print(\"name\",self.empname,\"domain:\",self.empemail.split(\"@\")[-1],\"salary\",self.esalary)\n",
    "        \n",
    "e1=employee(101,\"rahul\",\"rahul2002@gmail.com\",\"rahul.pvt\",20000)\n",
    "e1.info()\n",
    "        \n"
   ]
  },
  {
   "cell_type": "code",
   "execution_count": 74,
   "id": "92833b51",
   "metadata": {},
   "outputs": [
    {
     "name": "stdout",
     "output_type": "stream",
     "text": [
      "10000\n"
     ]
    },
    {
     "data": {
      "text/plain": [
       "50"
      ]
     },
     "execution_count": 74,
     "metadata": {},
     "output_type": "execute_result"
    }
   ],
   "source": [
    "#Inheritence\n",
    "#already defined chizo ko dusri class me use krte hai\n",
    "#parent/base/super class\n",
    "#child class/derived class/sub class\n",
    "\n",
    "class family:\n",
    "    amount=10000\n",
    "class children(family):#family parent hai\n",
    "    pocket_money=50\n",
    "    print(family.amount)\n",
    "    \n",
    "    \n",
    "c1=children()\n",
    "c1.pocket_money\n",
    "\n"
   ]
  },
  {
   "cell_type": "code",
   "execution_count": 87,
   "id": "230df713",
   "metadata": {},
   "outputs": [
    {
     "name": "stdout",
     "output_type": "stream",
     "text": [
      "99 Rahul rahul@gmail.com\n",
      "99 Rahul rahul@gmail.com\n"
     ]
    }
   ],
   "source": [
    "class Driver:\n",
    "    def __init__(self,ids,name,email):\n",
    "        self.ids=ids\n",
    "        self.name=name\n",
    "        self.email=email\n",
    "        \n",
    "    def info(self):\n",
    "        print(self.ids,self.name,self.email)\n",
    "        \n",
    "class Customer(Driver):\n",
    "    def __init__(self,cids,cname,cemail):\n",
    "        super().__init__(cids,cname,cemail)\n",
    "        \n",
    "    def cinfo(self):\n",
    "        super().info()\n",
    "        \n",
    "        \n",
    "c1=Customer(99,\"Rahul\",\"rahul@gmail.com\")\n",
    "c1.name\n",
    "c1.email\n",
    "c1.info()\n",
    "c1.cinfo()\n",
    "#print(c1.name,c1.email)"
   ]
  },
  {
   "cell_type": "code",
   "execution_count": null,
   "id": "2b6450fd",
   "metadata": {},
   "outputs": [],
   "source": [
    "#grandfather\n",
    "#father\n",
    "#child\n",
    "#access of child,father and grandfather\n",
    "\n",
    "class Grandfather:\n",
    "    def __init__(self,gname,gage):\n",
    "        self.gname=gname\n",
    "        self.gage=gage\n",
    "        \n",
    "class Father:\n",
    "    def __init__(self,fname,fage):\n",
    "        self.\n",
    "        \n",
    "    "
   ]
  },
  {
   "cell_type": "code",
   "execution_count": 92,
   "id": "9f39f798",
   "metadata": {},
   "outputs": [
    {
     "name": "stdout",
     "output_type": "stream",
     "text": [
      "parent one\n",
      "parent two\n"
     ]
    }
   ],
   "source": [
    "#multiple inheritence\n",
    "class parent1:\n",
    "    def par(self):\n",
    "        print(\"parent one\")\n",
    "        \n",
    "class parent2:\n",
    "    def pare(self):\n",
    "        print(\"parent two\")\n",
    "        \n",
    "class main(parent1,parent2):\n",
    "    def paren(self):\n",
    "        print(\"main parent\")\n",
    "        \n",
    "c1=main()\n",
    "c1.par()\n",
    "c1.pare()\n",
    "        \n",
    "\n",
    "    "
   ]
  },
  {
   "cell_type": "code",
   "execution_count": null,
   "id": "d6df14a8",
   "metadata": {},
   "outputs": [],
   "source": [
    "#what is MRO(method resolution order)"
   ]
  }
 ],
 "metadata": {
  "kernelspec": {
   "display_name": "Python 3 (ipykernel)",
   "language": "python",
   "name": "python3"
  },
  "language_info": {
   "codemirror_mode": {
    "name": "ipython",
    "version": 3
   },
   "file_extension": ".py",
   "mimetype": "text/x-python",
   "name": "python",
   "nbconvert_exporter": "python",
   "pygments_lexer": "ipython3",
   "version": "3.9.13"
  }
 },
 "nbformat": 4,
 "nbformat_minor": 5
}
