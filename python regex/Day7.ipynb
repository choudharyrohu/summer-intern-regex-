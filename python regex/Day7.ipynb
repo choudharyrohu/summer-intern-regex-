{
 "cells": [
  {
   "cell_type": "markdown",
   "id": "11294870",
   "metadata": {},
   "source": [
    "# Polymorphism"
   ]
  },
  {
   "cell_type": "code",
   "execution_count": null,
   "id": "63ae7370",
   "metadata": {},
   "outputs": [],
   "source": [
    "#many forms\n",
    "#variable,operator,object"
   ]
  },
  {
   "cell_type": "code",
   "execution_count": 1,
   "id": "9e5efc27",
   "metadata": {},
   "outputs": [
    {
     "name": "stdout",
     "output_type": "stream",
     "text": [
      "this is second vehicle class\n"
     ]
    }
   ],
   "source": [
    "class vehicle: ##python not supported method overloading\n",
    "    def info(self):\n",
    "        print(\"this is vehicle class\")\n",
    "        \n",
    "    def info(self,x):\n",
    "        print(\"this is second vehicle class\")\n",
    "        \n",
    "c1=vehicle()\n",
    "c1.info(100)"
   ]
  },
  {
   "cell_type": "code",
   "execution_count": 7,
   "id": "af3d226a",
   "metadata": {},
   "outputs": [
    {
     "name": "stdout",
     "output_type": "stream",
     "text": [
      "employee class has value 10\n",
      "employee class has value 90\n"
     ]
    }
   ],
   "source": [
    "class employee:\n",
    "    def __init__(self,num1):\n",
    "        self.num1=num1\n",
    "        \n",
    "    def __repr__(self):\n",
    "        return f\"employee class has value {self.num1}\"\n",
    "    \n",
    "e1=employee(10)\n",
    "print(e1)\n",
    "e2=employee(90)\n",
    "print(e2)"
   ]
  },
  {
   "cell_type": "code",
   "execution_count": 11,
   "id": "e217e167",
   "metadata": {},
   "outputs": [
    {
     "name": "stdout",
     "output_type": "stream",
     "text": [
      "hello 10\n"
     ]
    }
   ],
   "source": [
    "class employee:\n",
    "    def __init__(self,num1):\n",
    "        self.num1=num1\n",
    "        \n",
    "    def __repr__(self):\n",
    "        return f\"employee class has value {self.num1}\"\n",
    "    \n",
    "    def __add__(x,y):\n",
    "        print(\"hello\",x.num1)\n",
    "    \n",
    "e1=employee(10)\n",
    "e2=employee(90)\n",
    "\n",
    "e1+e2\n",
    "# + ==>__add__"
   ]
  },
  {
   "cell_type": "code",
   "execution_count": 3,
   "id": "112bd089",
   "metadata": {},
   "outputs": [
    {
     "name": "stdout",
     "output_type": "stream",
     "text": [
      "True\n"
     ]
    }
   ],
   "source": [
    "#two claas object =>2 instance variable\n",
    "#obj1>obj2 (true ya false)\n",
    "#obj1.var +obj1.var2  > obj2.var return false vrna true\n",
    "class MyClass:\n",
    "    def __init__(self, num1, num2):\n",
    "        self.num1 = num1\n",
    "        self.num2 = num2\n",
    "\n",
    "    def __gt__(self, obj):\n",
    "        return (self.num1 + self.num2) > (obj.num1)\n",
    "\n",
    "obj1 = MyClass(10, 20)\n",
    "obj2 = MyClass(3, 7)\n",
    "\n",
    "if obj1 > obj2:\n",
    "    print(\"True\")\n",
    "else:\n",
    "    print(\"False\")\n",
    "\n",
    "    "
   ]
  },
  {
   "cell_type": "code",
   "execution_count": 6,
   "id": "af23c368",
   "metadata": {},
   "outputs": [
    {
     "data": {
      "text/plain": [
       "False"
      ]
     },
     "execution_count": 6,
     "metadata": {},
     "output_type": "execute_result"
    }
   ],
   "source": [
    "class MyClass:\n",
    "    def __init__(self, num1, num2):\n",
    "        self.num1 = num1\n",
    "        self.num2 = num2\n",
    "\n",
    "    def __gt__(self, obj):\n",
    "        if(self.num1 + self.num2) > (obj.num1):\n",
    "             return False\n",
    "        else:\n",
    "            return True\n",
    "e1 = MyClass(10, 20)\n",
    "e2 = MyClass(3, 4)\n",
    "\n",
    "e1>e2"
   ]
  },
  {
   "cell_type": "code",
   "execution_count": 7,
   "id": "e953444f",
   "metadata": {},
   "outputs": [
    {
     "data": {
      "text/plain": [
       "100"
      ]
     },
     "execution_count": 7,
     "metadata": {},
     "output_type": "execute_result"
    }
   ],
   "source": [
    "#protected _\n",
    "class parent:\n",
    "    _amount=100\n",
    "p1=parent()\n",
    "p1._amount"
   ]
  },
  {
   "cell_type": "code",
   "execution_count": 8,
   "id": "ae178c73",
   "metadata": {},
   "outputs": [
    {
     "data": {
      "text/plain": [
       "100"
      ]
     },
     "execution_count": 8,
     "metadata": {},
     "output_type": "execute_result"
    }
   ],
   "source": [
    "#private __\n",
    "# __xyz =>_class__xyz\n",
    "class parent:\n",
    "    __amount=100\n",
    "p1=parent()\n",
    "p1._parent__amount"
   ]
  }
 ],
 "metadata": {
  "kernelspec": {
   "display_name": "Python 3 (ipykernel)",
   "language": "python",
   "name": "python3"
  },
  "language_info": {
   "codemirror_mode": {
    "name": "ipython",
    "version": 3
   },
   "file_extension": ".py",
   "mimetype": "text/x-python",
   "name": "python",
   "nbconvert_exporter": "python",
   "pygments_lexer": "ipython3",
   "version": "3.9.13"
  }
 },
 "nbformat": 4,
 "nbformat_minor": 5
}
