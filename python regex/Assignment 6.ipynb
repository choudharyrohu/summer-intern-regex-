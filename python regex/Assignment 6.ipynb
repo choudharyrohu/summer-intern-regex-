{
 "cells": [
  {
   "cell_type": "code",
   "execution_count": 8,
   "id": "545d1b55",
   "metadata": {},
   "outputs": [
    {
     "name": "stdout",
     "output_type": "stream",
     "text": [
      "enter the first number:13\n",
      "enter the second number:14\n",
      "after swap: 14 13\n"
     ]
    }
   ],
   "source": [
    "# Q1 Swap the number without using third varible\n",
    "x=int(input(\"enter the first number:\"))\n",
    "y=int(input(\"enter the second number:\"))\n",
    "x=x+y\n",
    "y=x-y\n",
    "x=x-y\n",
    "print(\"after swap:\",x,y)"
   ]
  },
  {
   "cell_type": "code",
   "execution_count": 10,
   "id": "60988e56",
   "metadata": {},
   "outputs": [
    {
     "name": "stdout",
     "output_type": "stream",
     "text": [
      "enter the integer no.:12345\n",
      "5 4 3 2 1 "
     ]
    }
   ],
   "source": [
    "# Q2 : Write a Program to extract each digit from an integer in the reverse order.\n",
    "# For example, If the given int is 7536, the output shall be “6 3 5 7“, with a space separating the digits\n",
    "x=int(input(\"enter the integer no.:\"))\n",
    "string=str(x)[::-1]\n",
    "for i in string:\n",
    "    print(i,end=\" \")"
   ]
  },
  {
   "cell_type": "code",
   "execution_count": 11,
   "id": "f085633f",
   "metadata": {},
   "outputs": [
    {
     "name": "stdout",
     "output_type": "stream",
     "text": [
      "6\n"
     ]
    }
   ],
   "source": [
    "# Q3 Write a program that will give you the sum of 3 digits\n",
    "x=1\n",
    "y=2\n",
    "z=3\n",
    "print(x+y+z)"
   ]
  },
  {
   "cell_type": "code",
   "execution_count": 14,
   "id": "9611e8c5",
   "metadata": {},
   "outputs": [
    {
     "name": "stdout",
     "output_type": "stream",
     "text": [
      "enter the fisrt number:1\n",
      "enter the second number:2\n",
      "enter the third number:3\n",
      "sum of the square of each digit: 14\n"
     ]
    }
   ],
   "source": [
    "# Q4 Write a program that will take three digits from the user and add the square of each digit.\n",
    "x=int(input(\"enter the fisrt number:\"))\n",
    "y=int(input(\"enter the second number:\"))\n",
    "z=int(input(\"enter the third number:\"))\n",
    "print(\"sum of the square of each digit:\", x*x+y*y+z*z)"
   ]
  },
  {
   "cell_type": "code",
   "execution_count": 16,
   "id": "174ca6d7",
   "metadata": {},
   "outputs": [
    {
     "name": "stdout",
     "output_type": "stream",
     "text": [
      "enter the number you want to check:153\n",
      "Armstrong\n"
     ]
    }
   ],
   "source": [
    "# Q5 Write a program that will check whether the number is armstrong number or not.\n",
    "no=int(input(\"enter the number you want to check:\"))\n",
    "temp=no\n",
    "sum=0\n",
    "while(no>0):\n",
    "    rem=no%10\n",
    "    sum+=(rem**3)\n",
    "    no=no//10\n",
    "if(sum==temp):\n",
    "    print(\"Armstrong\")\n",
    "else:\n",
    "    print(\"Not Armstrong\")\n",
    "    "
   ]
  },
  {
   "cell_type": "code",
   "execution_count": 20,
   "id": "21e3c146",
   "metadata": {},
   "outputs": [
    {
     "name": "stdout",
     "output_type": "stream",
     "text": [
      "enter the number you want to check:1634\n",
      "Narcissist\n"
     ]
    }
   ],
   "source": [
    "# Q6 :Write a program that will take user input of (4 digits number) and check whether the number is narcissist number or not.\n",
    "no=int(input(\"enter the number you want to check:\"))\n",
    "temp=no\n",
    "sum=0\n",
    "length=len(str(no))\n",
    "while(no>0):\n",
    "    rem=no%10\n",
    "    sum+=(rem**length)\n",
    "    no=no//10\n",
    "if(sum==temp):\n",
    "    print(\"Narcissist\")\n",
    "else:\n",
    "    print(\"Not Narcissist\")\n",
    "    "
   ]
  },
  {
   "cell_type": "code",
   "execution_count": 31,
   "id": "e2651297",
   "metadata": {},
   "outputs": [
    {
     "name": "stdout",
     "output_type": "stream",
     "text": [
      "float no. 12.00\n"
     ]
    }
   ],
   "source": [
    "# Q7 Display float number with 2 decimal places using print()\n",
    "x=12\n",
    "z = format(x, \".2f\")\n",
    "print(\"float no.\",z)"
   ]
  },
  {
   "cell_type": "code",
   "execution_count": 33,
   "id": "d058312f",
   "metadata": {},
   "outputs": [
    {
     "name": "stdout",
     "output_type": "stream",
     "text": [
      "enter the number:10\n",
      "factors 1\n",
      "factors 2\n",
      "factors 5\n",
      "factors 10\n"
     ]
    }
   ],
   "source": [
    "# Q8 Print all factors of a given number provided by the user.\n",
    "x=int(input(\"enter the number:\"))\n",
    "for i in range(1,x+1):\n",
    "    if x%i==0:\n",
    "        print(\"factors\",i)"
   ]
  },
  {
   "cell_type": "code",
   "execution_count": 44,
   "id": "aefc5915",
   "metadata": {},
   "outputs": [
    {
     "name": "stdout",
     "output_type": "stream",
     "text": [
      "Enter the list size : 4\n",
      "Enter number at location 0 :\n",
      "enter number:1\n",
      "Enter number at location 1 :\n",
      "enter number:3\n",
      "Enter number at location 2 :\n",
      "enter number:4\n",
      "Enter number at location 3 :\n",
      "enter number:5\n",
      "User List is  ['1.00', '3.00', '4.00', '5.00']\n"
     ]
    }
   ],
   "source": [
    "# Q9 Accept a list of 5 float numbers as an input from the user\n",
    "floatNumbers= []\n",
    "n =int(input(\"Enter the list size : \"))\n",
    "for i in range(0, n):\n",
    "    print(\"Enter number at location\", i, \":\")\n",
    "    item = format(float(input(\"enter number:\")), \".2f\")\n",
    "    floatNumbers.append(item)\n",
    "    \n",
    "print(\"User List is \", floatNumbers)\n",
    "    \n",
    "   "
   ]
  },
  {
   "cell_type": "code",
   "execution_count": 38,
   "id": "99e1c6ee",
   "metadata": {},
   "outputs": [
    {
     "name": "stdout",
     "output_type": "stream",
     "text": [
      "enter the radius of the cylinder:2\n",
      "enter the height of the cylinder:3\n",
      "volume of the cylinder: 37.68\n",
      "cost of the milk in cylinder 1507.2\n"
     ]
    }
   ],
   "source": [
    "# Q10 : Write a program to find the volume of the cylinder. Also find the cost when ,when the cost of 1litre milk is 40Rs.\n",
    "r=int(input(\"enter the radius of the cylinder:\"))\n",
    "h=int(input(\"enter the height of the cylinder:\"))\n",
    "pi=3.14\n",
    "volume=pi*r*r*h\n",
    "print(\"volume of the cylinder:\",volume)\n",
    "cost=volume*40\n",
    "print(\"cost of the milk in cylinder\",cost)"
   ]
  },
  {
   "cell_type": "code",
   "execution_count": null,
   "id": "6e2a9222",
   "metadata": {},
   "outputs": [],
   "source": []
  }
 ],
 "metadata": {
  "kernelspec": {
   "display_name": "Python 3 (ipykernel)",
   "language": "python",
   "name": "python3"
  },
  "language_info": {
   "codemirror_mode": {
    "name": "ipython",
    "version": 3
   },
   "file_extension": ".py",
   "mimetype": "text/x-python",
   "name": "python",
   "nbconvert_exporter": "python",
   "pygments_lexer": "ipython3",
   "version": "3.9.13"
  }
 },
 "nbformat": 4,
 "nbformat_minor": 5
}
