{
 "cells": [
  {
   "cell_type": "markdown",
   "id": "adac46f3",
   "metadata": {},
   "source": [
    "# Introduction to numpy"
   ]
  },
  {
   "cell_type": "code",
   "execution_count": null,
   "id": "cd64990f",
   "metadata": {},
   "outputs": [],
   "source": [
    "#introduction to numpy ==>\n",
    "#why numpy is better than list?\n",
    "#1). same data type ==>array\n",
    "#2). memory consume ==> numpy less , list high\n",
    "#3). computation power ==>numpy high, list less\n",
    "#4).functions ==> numpy high, list less"
   ]
  },
  {
   "cell_type": "code",
   "execution_count": 2,
   "id": "2395fc86",
   "metadata": {},
   "outputs": [],
   "source": [
    "import numpy as np"
   ]
  },
  {
   "cell_type": "code",
   "execution_count": 1,
   "id": "83f10fe2",
   "metadata": {},
   "outputs": [
    {
     "data": {
      "text/plain": [
       "list"
      ]
     },
     "execution_count": 1,
     "metadata": {},
     "output_type": "execute_result"
    }
   ],
   "source": [
    "a=[1,23,78,68]\n",
    "type(a)"
   ]
  },
  {
   "cell_type": "code",
   "execution_count": 4,
   "id": "ddb250e0",
   "metadata": {},
   "outputs": [
    {
     "data": {
      "text/plain": [
       "array([ 1, 23, 78, 68])"
      ]
     },
     "execution_count": 4,
     "metadata": {},
     "output_type": "execute_result"
    }
   ],
   "source": [
    "b=np.array(a)\n",
    "b"
   ]
  },
  {
   "cell_type": "code",
   "execution_count": 5,
   "id": "20cfc86c",
   "metadata": {},
   "outputs": [
    {
     "data": {
      "text/plain": [
       "numpy.ndarray"
      ]
     },
     "execution_count": 5,
     "metadata": {},
     "output_type": "execute_result"
    }
   ],
   "source": [
    "type(b)"
   ]
  },
  {
   "cell_type": "code",
   "execution_count": 3,
   "id": "5d4de31a",
   "metadata": {},
   "outputs": [
    {
     "name": "stdout",
     "output_type": "stream",
     "text": [
      "enter the no.of elements in list4\n",
      "enter the elements of list1\n",
      "enter the elements of list2\n",
      "enter the elements of list3\n",
      "enter the elements of list4\n"
     ]
    },
    {
     "data": {
      "text/plain": [
       "array([1, 2, 3, 4])"
      ]
     },
     "execution_count": 3,
     "metadata": {},
     "output_type": "execute_result"
    }
   ],
   "source": [
    "mylist=[]\n",
    "x=int(input(\"enter the no.of elements in list\"))\n",
    "\n",
    "for i in range(x):\n",
    "    y=int(input(\"enter the elements of list\"))\n",
    "    mylist.append(y)\n",
    "#print(mylist)\n",
    "b=np.array(mylist)\n",
    "b\n",
    "    \n",
    "    \n"
   ]
  },
  {
   "cell_type": "markdown",
   "id": "bf5fa630",
   "metadata": {},
   "source": [
    "# how to check shape and size of an array"
   ]
  },
  {
   "cell_type": "code",
   "execution_count": null,
   "id": "6cdbff7e",
   "metadata": {},
   "outputs": [],
   "source": [
    "#esc+1 shift+enter"
   ]
  },
  {
   "cell_type": "code",
   "execution_count": null,
   "id": "880f9262",
   "metadata": {},
   "outputs": [],
   "source": [
    "#shape =n(rows), n(columns)\n",
    "\n",
    "#size= total_elements ==> n(rows)*n(columns)"
   ]
  },
  {
   "cell_type": "code",
   "execution_count": 4,
   "id": "cf85bee3",
   "metadata": {},
   "outputs": [
    {
     "name": "stdout",
     "output_type": "stream",
     "text": [
      "total shape= (4,)\n",
      "total size= 4\n"
     ]
    }
   ],
   "source": [
    "print(\"total shape=\",b.shape)\n",
    "print(\"total size=\",b.size)"
   ]
  },
  {
   "cell_type": "code",
   "execution_count": 6,
   "id": "0be463d7",
   "metadata": {},
   "outputs": [
    {
     "data": {
      "text/plain": [
       "array([[1, 2, 3],\n",
       "       [4, 5, 6],\n",
       "       [7, 8, 9]])"
      ]
     },
     "execution_count": 6,
     "metadata": {},
     "output_type": "execute_result"
    }
   ],
   "source": [
    "a=[[1,2,3], [4,5,6], [7,8,9]]\n",
    "b=np.array(a)\n",
    "b"
   ]
  },
  {
   "cell_type": "code",
   "execution_count": 7,
   "id": "96e40dbb",
   "metadata": {},
   "outputs": [
    {
     "name": "stdout",
     "output_type": "stream",
     "text": [
      "total shape=  (3, 3)\n",
      "total size=  9\n"
     ]
    }
   ],
   "source": [
    "print(\"total shape= \",b.shape)\n",
    "print(\"total size= \",b.size)"
   ]
  },
  {
   "cell_type": "code",
   "execution_count": null,
   "id": "0a2a7821",
   "metadata": {},
   "outputs": [],
   "source": [
    "#Image ===>pixels ===>(0-255)px ==> 0px(complete black), 255px(white)\n",
    "\n",
    "#convert ===> gryscale image ==>\n",
    "#Image(pixels) ===>Normalization(0-1) ===>0px==>black , 1px ==>white\n",
    "\n",
    "#0, 1==>neuron system\n",
    "#matrix ==>rows,columns==>\n",
    "#symetric matrix==.n(rows)=n(columns)\n",
    "#symetric matrix==.n(rows)!=n(columns)\n",
    "#diagonal elements=[(1,1),(2,2),(3,3).....(n,n)]\n"
   ]
  },
  {
   "cell_type": "markdown",
   "id": "a2ffb545",
   "metadata": {},
   "source": [
    "# (1).zeros()===> it will create an array in which all the elements are zero."
   ]
  },
  {
   "cell_type": "code",
   "execution_count": 8,
   "id": "069eee23",
   "metadata": {},
   "outputs": [
    {
     "data": {
      "text/plain": [
       "array([0., 0., 0., 0.])"
      ]
     },
     "execution_count": 8,
     "metadata": {},
     "output_type": "execute_result"
    }
   ],
   "source": [
    "a=np.zeros(4)\n",
    "a"
   ]
  },
  {
   "cell_type": "code",
   "execution_count": 10,
   "id": "64294ec5",
   "metadata": {},
   "outputs": [
    {
     "data": {
      "text/plain": [
       "array([[0., 0., 0., 0.],\n",
       "       [0., 0., 0., 0.],\n",
       "       [0., 0., 0., 0.]])"
      ]
     },
     "execution_count": 10,
     "metadata": {},
     "output_type": "execute_result"
    }
   ],
   "source": [
    "a=np.zeros((3,4))\n",
    "a"
   ]
  },
  {
   "cell_type": "markdown",
   "id": "f39eb775",
   "metadata": {},
   "source": [
    "# (2).ones()===>it will create an array in which all the values are one"
   ]
  },
  {
   "cell_type": "code",
   "execution_count": 13,
   "id": "b8886f1f",
   "metadata": {},
   "outputs": [
    {
     "data": {
      "text/plain": [
       "array([1., 1., 1.])"
      ]
     },
     "execution_count": 13,
     "metadata": {},
     "output_type": "execute_result"
    }
   ],
   "source": [
    "a=np.ones(3)\n",
    "a"
   ]
  },
  {
   "cell_type": "code",
   "execution_count": 14,
   "id": "4a6a589c",
   "metadata": {},
   "outputs": [
    {
     "data": {
      "text/plain": [
       "array([[1., 1., 1., 1.],\n",
       "       [1., 1., 1., 1.],\n",
       "       [1., 1., 1., 1.]])"
      ]
     },
     "execution_count": 14,
     "metadata": {},
     "output_type": "execute_result"
    }
   ],
   "source": [
    "b=np.ones((3,4))\n",
    "b"
   ]
  },
  {
   "cell_type": "markdown",
   "id": "aa3cce23",
   "metadata": {},
   "source": [
    "# (3).eye()===>this function will create an array in which diagonal positional elements are 1 and other are zero"
   ]
  },
  {
   "cell_type": "code",
   "execution_count": 16,
   "id": "767e02b4",
   "metadata": {},
   "outputs": [
    {
     "data": {
      "text/plain": [
       "array([[1., 0., 0., 0.],\n",
       "       [0., 1., 0., 0.],\n",
       "       [0., 0., 1., 0.]])"
      ]
     },
     "execution_count": 16,
     "metadata": {},
     "output_type": "execute_result"
    }
   ],
   "source": [
    "a=np.eye(3,4)#asymetric\n",
    "a"
   ]
  },
  {
   "cell_type": "code",
   "execution_count": 17,
   "id": "4e458c8c",
   "metadata": {},
   "outputs": [
    {
     "data": {
      "text/plain": [
       "array([[1., 0., 0., 0.],\n",
       "       [0., 1., 0., 0.],\n",
       "       [0., 0., 1., 0.],\n",
       "       [0., 0., 0., 1.]])"
      ]
     },
     "execution_count": 17,
     "metadata": {},
     "output_type": "execute_result"
    }
   ],
   "source": [
    "a=np.eye(4)#symetric\n",
    "a"
   ]
  }
 ],
 "metadata": {
  "kernelspec": {
   "display_name": "Python 3 (ipykernel)",
   "language": "python",
   "name": "python3"
  },
  "language_info": {
   "codemirror_mode": {
    "name": "ipython",
    "version": 3
   },
   "file_extension": ".py",
   "mimetype": "text/x-python",
   "name": "python",
   "nbconvert_exporter": "python",
   "pygments_lexer": "ipython3",
   "version": "3.9.13"
  }
 },
 "nbformat": 4,
 "nbformat_minor": 5
}
