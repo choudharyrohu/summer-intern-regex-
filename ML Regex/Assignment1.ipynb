{
 "cells": [
  {
   "cell_type": "markdown",
   "id": "2064124f",
   "metadata": {},
   "source": [
    "# lambda function example"
   ]
  },
  {
   "cell_type": "code",
   "execution_count": 2,
   "id": "72e0914d",
   "metadata": {},
   "outputs": [
    {
     "name": "stdout",
     "output_type": "stream",
     "text": [
      "3\n"
     ]
    }
   ],
   "source": [
    "x=lambda x,y:x+y\n",
    "print(x(1,2))"
   ]
  },
  {
   "cell_type": "code",
   "execution_count": 4,
   "id": "f7e9375c",
   "metadata": {},
   "outputs": [
    {
     "name": "stdout",
     "output_type": "stream",
     "text": [
      "enter the no.3\n",
      "9\n"
     ]
    }
   ],
   "source": [
    "x=int(input(\"enter the no.\"))\n",
    "y=lambda x:x*x\n",
    "print(y(x))\n"
   ]
  },
  {
   "cell_type": "code",
   "execution_count": 5,
   "id": "c95237f3",
   "metadata": {},
   "outputs": [
    {
     "name": "stdout",
     "output_type": "stream",
     "text": [
      "rahul choudhary\n"
     ]
    }
   ],
   "source": [
    "x= lambda :print(\"rahul choudhary\")\n",
    "x()"
   ]
  },
  {
   "cell_type": "code",
   "execution_count": 16,
   "id": "9a0ca1f3",
   "metadata": {},
   "outputs": [
    {
     "name": "stdout",
     "output_type": "stream",
     "text": [
      "20\n"
     ]
    }
   ],
   "source": [
    "def myfunc(n):\n",
    "  return lambda a : a * n\n",
    "\n",
    "x = myfunc(2)\n",
    "\n",
    "print(x(10))"
   ]
  },
  {
   "cell_type": "code",
   "execution_count": 36,
   "id": "e2e3f9f5",
   "metadata": {},
   "outputs": [
    {
     "name": "stdout",
     "output_type": "stream",
     "text": [
      "2\n"
     ]
    }
   ],
   "source": [
    "string_list=[\"rahul\",\"choudhary\"]\n",
    "count_elements=lambda l:len(l)\n",
    "result=count_elements(string_list)\n",
    "print(result)"
   ]
  },
  {
   "cell_type": "code",
   "execution_count": null,
   "id": "1a9f87a7",
   "metadata": {},
   "outputs": [],
   "source": []
  },
  {
   "cell_type": "markdown",
   "id": "768888b8",
   "metadata": {},
   "source": [
    "# map function example"
   ]
  },
  {
   "cell_type": "code",
   "execution_count": 19,
   "id": "23741184",
   "metadata": {},
   "outputs": [
    {
     "data": {
      "text/plain": [
       "[1, 4, 9, 16, 25]"
      ]
     },
     "execution_count": 19,
     "metadata": {},
     "output_type": "execute_result"
    }
   ],
   "source": [
    "mlist=[1,2,3,4,5]\n",
    "list(map(lambda i:i*i,mlist))"
   ]
  },
  {
   "cell_type": "code",
   "execution_count": 20,
   "id": "70d7553e",
   "metadata": {},
   "outputs": [
    {
     "name": "stdout",
     "output_type": "stream",
     "text": [
      "[5, 9]\n"
     ]
    }
   ],
   "source": [
    "z=[\"rahul\",\"choudhary\"]\n",
    "otpt=list(map(lambda i:len(i),z))\n",
    "print(otpt)"
   ]
  },
  {
   "cell_type": "code",
   "execution_count": 22,
   "id": "fd6a6583",
   "metadata": {},
   "outputs": [
    {
     "name": "stdout",
     "output_type": "stream",
     "text": [
      "[2, 4, 6, 8]\n"
     ]
    }
   ],
   "source": [
    "num=(1, 2, 3, 4)\n",
    "result=map(lambda x: x + x, num)\n",
    "print(list(result))\n"
   ]
  },
  {
   "cell_type": "code",
   "execution_count": 24,
   "id": "c34ce1ab",
   "metadata": {},
   "outputs": [
    {
     "name": "stdout",
     "output_type": "stream",
     "text": [
      "[5, 7, 9]\n"
     ]
    }
   ],
   "source": [
    "num1 = [1, 2, 3]\n",
    "num2 = [4, 5, 6]\n",
    "\n",
    "result = map(lambda x, y: x + y, num1, num2)\n",
    "print(list(result))\n"
   ]
  },
  {
   "cell_type": "code",
   "execution_count": 26,
   "id": "13c8f0eb",
   "metadata": {},
   "outputs": [
    {
     "name": "stdout",
     "output_type": "stream",
     "text": [
      "[['s', 'a', 't'], ['b', 'a', 't'], ['c', 'a', 't'], ['m', 'a', 't']]\n"
     ]
    }
   ],
   "source": [
    "\n",
    "lst= ['sat', 'bat', 'cat', 'mat']\n",
    "test = list(map(list, lst))\n",
    "print(test)\n"
   ]
  },
  {
   "cell_type": "markdown",
   "id": "fb37f42d",
   "metadata": {},
   "source": [
    "# filter function example"
   ]
  },
  {
   "cell_type": "code",
   "execution_count": 33,
   "id": "71ebf96d",
   "metadata": {},
   "outputs": [
    {
     "data": {
      "text/plain": [
       "[2, 4, 6]"
      ]
     },
     "execution_count": 33,
     "metadata": {},
     "output_type": "execute_result"
    }
   ],
   "source": [
    "mylist=[2,4,6,9,11]\n",
    "list(filter(lambda i:i%2==0,mylist))"
   ]
  },
  {
   "cell_type": "code",
   "execution_count": 38,
   "id": "9b0481a4",
   "metadata": {},
   "outputs": [
    {
     "name": "stdout",
     "output_type": "stream",
     "text": [
      "['apple', 'banana', 'cherry', 'date', 'elderberry']\n"
     ]
    }
   ],
   "source": [
    "string_list = [\"apple\", \"banana\", '', \"cherry\", \"date\", '', \"elderberry\"]\n",
    "vowel_name = list(filter(lambda x: x!='', string_list))\n",
    "print(vowel_name)"
   ]
  },
  {
   "cell_type": "code",
   "execution_count": 43,
   "id": "70e09da5",
   "metadata": {},
   "outputs": [
    {
     "name": "stdout",
     "output_type": "stream",
     "text": [
      "['hello', 'byyy']\n"
     ]
    }
   ],
   "source": [
    "x = [\"hello\", \"hii\", \"byyy\"]\n",
    "result = list(filter(lambda i: len(i)>3, x))\n",
    "print(result)"
   ]
  },
  {
   "cell_type": "code",
   "execution_count": null,
   "id": "908ed1a2",
   "metadata": {},
   "outputs": [],
   "source": []
  },
  {
   "cell_type": "code",
   "execution_count": null,
   "id": "69486a97",
   "metadata": {},
   "outputs": [],
   "source": []
  },
  {
   "cell_type": "code",
   "execution_count": null,
   "id": "837ca22b",
   "metadata": {},
   "outputs": [],
   "source": []
  }
 ],
 "metadata": {
  "kernelspec": {
   "display_name": "Python 3 (ipykernel)",
   "language": "python",
   "name": "python3"
  },
  "language_info": {
   "codemirror_mode": {
    "name": "ipython",
    "version": 3
   },
   "file_extension": ".py",
   "mimetype": "text/x-python",
   "name": "python",
   "nbconvert_exporter": "python",
   "pygments_lexer": "ipython3",
   "version": "3.9.13"
  }
 },
 "nbformat": 4,
 "nbformat_minor": 5
}
