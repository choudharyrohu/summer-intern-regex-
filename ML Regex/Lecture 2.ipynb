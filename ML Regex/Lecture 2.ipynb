{
 "cells": [
  {
   "cell_type": "markdown",
   "id": "4017b012",
   "metadata": {},
   "source": [
    "# 4. diag ==> This function creates a two dimensional array with all the diagonal elements as the given value and rest are zero"
   ]
  },
  {
   "cell_type": "code",
   "execution_count": 1,
   "id": "69b8d14e",
   "metadata": {},
   "outputs": [
    {
     "data": {
      "text/plain": [
       "array([[1, 0, 0, 0],\n",
       "       [0, 4, 0, 0],\n",
       "       [0, 0, 8, 0],\n",
       "       [0, 0, 0, 9]])"
      ]
     },
     "execution_count": 1,
     "metadata": {},
     "output_type": "execute_result"
    }
   ],
   "source": [
    "import numpy as np\n",
    "a=np.diag([1,4,8,9])\n",
    "a"
   ]
  },
  {
   "cell_type": "markdown",
   "id": "53995dc0",
   "metadata": {},
   "source": [
    "# 5.randint ==> this function is used to generate a random number between a given range."
   ]
  },
  {
   "cell_type": "markdown",
   "id": "74b76e7c",
   "metadata": {},
   "source": [
    "# syntax==randint(min_value, max_value, total_numbers)"
   ]
  },
  {
   "cell_type": "code",
   "execution_count": 3,
   "id": "1b2511db",
   "metadata": {},
   "outputs": [
    {
     "data": {
      "text/plain": [
       "array([1, 9, 7])"
      ]
     },
     "execution_count": 3,
     "metadata": {},
     "output_type": "execute_result"
    }
   ],
   "source": [
    "import numpy as np\n",
    "a=np.random.randint(1,10,3)\n",
    "a"
   ]
  },
  {
   "cell_type": "markdown",
   "id": "1b4b993f",
   "metadata": {},
   "source": [
    "# 6.rand() ==> this function is used to generate a random number between 0 to 1."
   ]
  },
  {
   "cell_type": "markdown",
   "id": "986c0f9a",
   "metadata": {},
   "source": [
    "# syntax ==rand(number of values)"
   ]
  },
  {
   "cell_type": "code",
   "execution_count": 4,
   "id": "42478084",
   "metadata": {},
   "outputs": [
    {
     "data": {
      "text/plain": [
       "array([0.97717695, 0.00655922, 0.49155929, 0.59382893, 0.29947139,\n",
       "       0.79471939])"
      ]
     },
     "execution_count": 4,
     "metadata": {},
     "output_type": "execute_result"
    }
   ],
   "source": [
    "import numpy as np\n",
    "a=np.random.rand(6)\n",
    "a"
   ]
  },
  {
   "cell_type": "markdown",
   "id": "4282e847",
   "metadata": {},
   "source": [
    "# 7.randn() ==>this function is used to generate a random number from -3 to close 3.this may return positive or negative as well"
   ]
  },
  {
   "cell_type": "markdown",
   "id": "62480d9d",
   "metadata": {},
   "source": [
    "# syntax== random.randn(no. of values)"
   ]
  },
  {
   "cell_type": "code",
   "execution_count": 5,
   "id": "9b1a1fe8",
   "metadata": {},
   "outputs": [
    {
     "data": {
      "text/plain": [
       "array([ 1.44776634, -1.65486094,  0.08733786, -0.40681207, -0.59185058])"
      ]
     },
     "execution_count": 5,
     "metadata": {},
     "output_type": "execute_result"
    }
   ],
   "source": [
    "import numpy as np\n",
    "a=np.random.randn(5)\n",
    "a"
   ]
  },
  {
   "cell_type": "markdown",
   "id": "e3c661cd",
   "metadata": {},
   "source": [
    "# Reshaping Data"
   ]
  },
  {
   "cell_type": "code",
   "execution_count": 7,
   "id": "5c868ce1",
   "metadata": {},
   "outputs": [
    {
     "data": {
      "text/plain": [
       "array([26,  8, 45, 46, 32, 18,  6, 16, 13, 39, 21,  9])"
      ]
     },
     "execution_count": 7,
     "metadata": {},
     "output_type": "execute_result"
    }
   ],
   "source": [
    "import numpy as np\n",
    "a=np.random.randint(1,50,12)\n",
    "a"
   ]
  },
  {
   "cell_type": "code",
   "execution_count": 8,
   "id": "2b0b166b",
   "metadata": {},
   "outputs": [],
   "source": [
    "#n(rows)*n(columns)=n(total_elements)"
   ]
  },
  {
   "cell_type": "code",
   "execution_count": 9,
   "id": "d787dfee",
   "metadata": {},
   "outputs": [
    {
     "data": {
      "text/plain": [
       "(12,)"
      ]
     },
     "execution_count": 9,
     "metadata": {},
     "output_type": "execute_result"
    }
   ],
   "source": [
    "a.shape"
   ]
  },
  {
   "cell_type": "code",
   "execution_count": 11,
   "id": "2ecd1dfb",
   "metadata": {},
   "outputs": [
    {
     "data": {
      "text/plain": [
       "array([[26,  8, 45, 46, 32, 18],\n",
       "       [ 6, 16, 13, 39, 21,  9]])"
      ]
     },
     "execution_count": 11,
     "metadata": {},
     "output_type": "execute_result"
    }
   ],
   "source": [
    "a=a.reshape(2,6)\n",
    "a"
   ]
  },
  {
   "cell_type": "code",
   "execution_count": 12,
   "id": "c8c24069",
   "metadata": {},
   "outputs": [
    {
     "data": {
      "text/plain": [
       "array([[26,  8],\n",
       "       [45, 46],\n",
       "       [32, 18],\n",
       "       [ 6, 16],\n",
       "       [13, 39],\n",
       "       [21,  9]])"
      ]
     },
     "execution_count": 12,
     "metadata": {},
     "output_type": "execute_result"
    }
   ],
   "source": [
    "a=a.reshape(6,2)\n",
    "a"
   ]
  },
  {
   "cell_type": "code",
   "execution_count": 13,
   "id": "1538e0c2",
   "metadata": {},
   "outputs": [
    {
     "data": {
      "text/plain": [
       "array([[26,  8, 45, 46],\n",
       "       [32, 18,  6, 16],\n",
       "       [13, 39, 21,  9]])"
      ]
     },
     "execution_count": 13,
     "metadata": {},
     "output_type": "execute_result"
    }
   ],
   "source": [
    "a=a.reshape(3,4)\n",
    "a"
   ]
  },
  {
   "cell_type": "code",
   "execution_count": 14,
   "id": "b492972a",
   "metadata": {},
   "outputs": [
    {
     "data": {
      "text/plain": [
       "array([[26,  8, 45],\n",
       "       [46, 32, 18],\n",
       "       [ 6, 16, 13],\n",
       "       [39, 21,  9]])"
      ]
     },
     "execution_count": 14,
     "metadata": {},
     "output_type": "execute_result"
    }
   ],
   "source": [
    "a=a.reshape(4,3)\n",
    "a"
   ]
  },
  {
   "cell_type": "code",
   "execution_count": 16,
   "id": "350738e3",
   "metadata": {},
   "outputs": [
    {
     "data": {
      "text/plain": [
       "array([[26],\n",
       "       [ 8],\n",
       "       [45],\n",
       "       [46],\n",
       "       [32],\n",
       "       [18],\n",
       "       [ 6],\n",
       "       [16],\n",
       "       [13],\n",
       "       [39],\n",
       "       [21],\n",
       "       [ 9]])"
      ]
     },
     "execution_count": 16,
     "metadata": {},
     "output_type": "execute_result"
    }
   ],
   "source": [
    "a=a.reshape(12,1)\n",
    "a"
   ]
  },
  {
   "cell_type": "code",
   "execution_count": 17,
   "id": "afafed62",
   "metadata": {},
   "outputs": [
    {
     "data": {
      "text/plain": [
       "array([55, 97, 89, 53, 58, 81, 74, 88, 31, 62, 95,  2, 37, 16, 30, 45, 59,\n",
       "       48, 21, 78, 94, 33,  3, 53, 30, 88, 92, 49, 77, 31, 64, 58, 21, 45,\n",
       "       25, 76, 26, 14, 65, 78, 45, 59, 50, 56, 24, 44,  7, 88, 53, 17, 51,\n",
       "       34, 73, 95, 37, 13, 51, 41, 10, 55, 54, 60, 26, 91])"
      ]
     },
     "execution_count": 17,
     "metadata": {},
     "output_type": "execute_result"
    }
   ],
   "source": [
    "import numpy as np\n",
    "a=np.random.randint(1,100,64)\n",
    "a"
   ]
  },
  {
   "cell_type": "code",
   "execution_count": 18,
   "id": "5c86f03b",
   "metadata": {},
   "outputs": [
    {
     "data": {
      "text/plain": [
       "array([[55, 97, 89, 53, 58, 81, 74, 88, 31, 62, 95,  2, 37, 16, 30, 45,\n",
       "        59, 48, 21, 78, 94, 33,  3, 53, 30, 88, 92, 49, 77, 31, 64, 58,\n",
       "        21, 45, 25, 76, 26, 14, 65, 78, 45, 59, 50, 56, 24, 44,  7, 88,\n",
       "        53, 17, 51, 34, 73, 95, 37, 13, 51, 41, 10, 55, 54, 60, 26, 91]])"
      ]
     },
     "execution_count": 18,
     "metadata": {},
     "output_type": "execute_result"
    }
   ],
   "source": [
    "a=a.reshape(1,64)\n",
    "a"
   ]
  },
  {
   "cell_type": "code",
   "execution_count": 19,
   "id": "091fad0a",
   "metadata": {},
   "outputs": [
    {
     "data": {
      "text/plain": [
       "array([[55],\n",
       "       [97],\n",
       "       [89],\n",
       "       [53],\n",
       "       [58],\n",
       "       [81],\n",
       "       [74],\n",
       "       [88],\n",
       "       [31],\n",
       "       [62],\n",
       "       [95],\n",
       "       [ 2],\n",
       "       [37],\n",
       "       [16],\n",
       "       [30],\n",
       "       [45],\n",
       "       [59],\n",
       "       [48],\n",
       "       [21],\n",
       "       [78],\n",
       "       [94],\n",
       "       [33],\n",
       "       [ 3],\n",
       "       [53],\n",
       "       [30],\n",
       "       [88],\n",
       "       [92],\n",
       "       [49],\n",
       "       [77],\n",
       "       [31],\n",
       "       [64],\n",
       "       [58],\n",
       "       [21],\n",
       "       [45],\n",
       "       [25],\n",
       "       [76],\n",
       "       [26],\n",
       "       [14],\n",
       "       [65],\n",
       "       [78],\n",
       "       [45],\n",
       "       [59],\n",
       "       [50],\n",
       "       [56],\n",
       "       [24],\n",
       "       [44],\n",
       "       [ 7],\n",
       "       [88],\n",
       "       [53],\n",
       "       [17],\n",
       "       [51],\n",
       "       [34],\n",
       "       [73],\n",
       "       [95],\n",
       "       [37],\n",
       "       [13],\n",
       "       [51],\n",
       "       [41],\n",
       "       [10],\n",
       "       [55],\n",
       "       [54],\n",
       "       [60],\n",
       "       [26],\n",
       "       [91]])"
      ]
     },
     "execution_count": 19,
     "metadata": {},
     "output_type": "execute_result"
    }
   ],
   "source": [
    "a=a.reshape(64,1)\n",
    "a"
   ]
  },
  {
   "cell_type": "code",
   "execution_count": 20,
   "id": "e559c352",
   "metadata": {},
   "outputs": [
    {
     "data": {
      "text/plain": [
       "array([[55, 97, 89, 53, 58, 81, 74, 88, 31, 62, 95,  2, 37, 16, 30, 45,\n",
       "        59, 48, 21, 78, 94, 33,  3, 53, 30, 88, 92, 49, 77, 31, 64, 58],\n",
       "       [21, 45, 25, 76, 26, 14, 65, 78, 45, 59, 50, 56, 24, 44,  7, 88,\n",
       "        53, 17, 51, 34, 73, 95, 37, 13, 51, 41, 10, 55, 54, 60, 26, 91]])"
      ]
     },
     "execution_count": 20,
     "metadata": {},
     "output_type": "execute_result"
    }
   ],
   "source": [
    "a=a.reshape(2,32)\n",
    "a"
   ]
  },
  {
   "cell_type": "code",
   "execution_count": 21,
   "id": "30c15d0e",
   "metadata": {},
   "outputs": [
    {
     "data": {
      "text/plain": [
       "array([[55, 97],\n",
       "       [89, 53],\n",
       "       [58, 81],\n",
       "       [74, 88],\n",
       "       [31, 62],\n",
       "       [95,  2],\n",
       "       [37, 16],\n",
       "       [30, 45],\n",
       "       [59, 48],\n",
       "       [21, 78],\n",
       "       [94, 33],\n",
       "       [ 3, 53],\n",
       "       [30, 88],\n",
       "       [92, 49],\n",
       "       [77, 31],\n",
       "       [64, 58],\n",
       "       [21, 45],\n",
       "       [25, 76],\n",
       "       [26, 14],\n",
       "       [65, 78],\n",
       "       [45, 59],\n",
       "       [50, 56],\n",
       "       [24, 44],\n",
       "       [ 7, 88],\n",
       "       [53, 17],\n",
       "       [51, 34],\n",
       "       [73, 95],\n",
       "       [37, 13],\n",
       "       [51, 41],\n",
       "       [10, 55],\n",
       "       [54, 60],\n",
       "       [26, 91]])"
      ]
     },
     "execution_count": 21,
     "metadata": {},
     "output_type": "execute_result"
    }
   ],
   "source": [
    "a=a.reshape(32,2)\n",
    "a"
   ]
  },
  {
   "cell_type": "code",
   "execution_count": 22,
   "id": "5783440e",
   "metadata": {},
   "outputs": [
    {
     "data": {
      "text/plain": [
       "array([[55, 97, 89, 53, 58, 81, 74, 88, 31, 62, 95,  2, 37, 16, 30, 45],\n",
       "       [59, 48, 21, 78, 94, 33,  3, 53, 30, 88, 92, 49, 77, 31, 64, 58],\n",
       "       [21, 45, 25, 76, 26, 14, 65, 78, 45, 59, 50, 56, 24, 44,  7, 88],\n",
       "       [53, 17, 51, 34, 73, 95, 37, 13, 51, 41, 10, 55, 54, 60, 26, 91]])"
      ]
     },
     "execution_count": 22,
     "metadata": {},
     "output_type": "execute_result"
    }
   ],
   "source": [
    "a=a.reshape(4,16)\n",
    "a"
   ]
  },
  {
   "cell_type": "code",
   "execution_count": 23,
   "id": "010f1d05",
   "metadata": {},
   "outputs": [
    {
     "data": {
      "text/plain": [
       "array([[55, 97, 89, 53],\n",
       "       [58, 81, 74, 88],\n",
       "       [31, 62, 95,  2],\n",
       "       [37, 16, 30, 45],\n",
       "       [59, 48, 21, 78],\n",
       "       [94, 33,  3, 53],\n",
       "       [30, 88, 92, 49],\n",
       "       [77, 31, 64, 58],\n",
       "       [21, 45, 25, 76],\n",
       "       [26, 14, 65, 78],\n",
       "       [45, 59, 50, 56],\n",
       "       [24, 44,  7, 88],\n",
       "       [53, 17, 51, 34],\n",
       "       [73, 95, 37, 13],\n",
       "       [51, 41, 10, 55],\n",
       "       [54, 60, 26, 91]])"
      ]
     },
     "execution_count": 23,
     "metadata": {},
     "output_type": "execute_result"
    }
   ],
   "source": [
    "a=a.reshape(16,4)\n",
    "a"
   ]
  },
  {
   "cell_type": "code",
   "execution_count": 24,
   "id": "7e5b71a3",
   "metadata": {},
   "outputs": [
    {
     "data": {
      "text/plain": [
       "array([[55, 97, 89, 53, 58, 81, 74, 88],\n",
       "       [31, 62, 95,  2, 37, 16, 30, 45],\n",
       "       [59, 48, 21, 78, 94, 33,  3, 53],\n",
       "       [30, 88, 92, 49, 77, 31, 64, 58],\n",
       "       [21, 45, 25, 76, 26, 14, 65, 78],\n",
       "       [45, 59, 50, 56, 24, 44,  7, 88],\n",
       "       [53, 17, 51, 34, 73, 95, 37, 13],\n",
       "       [51, 41, 10, 55, 54, 60, 26, 91]])"
      ]
     },
     "execution_count": 24,
     "metadata": {},
     "output_type": "execute_result"
    }
   ],
   "source": [
    "a=a.reshape(8,8)\n",
    "a"
   ]
  },
  {
   "cell_type": "markdown",
   "id": "43de3229",
   "metadata": {},
   "source": [
    "# Principle of -1"
   ]
  },
  {
   "cell_type": "code",
   "execution_count": 27,
   "id": "7c0b8d19",
   "metadata": {},
   "outputs": [
    {
     "data": {
      "text/plain": [
       "array([[55, 97, 89, 53],\n",
       "       [58, 81, 74, 88],\n",
       "       [31, 62, 95,  2],\n",
       "       [37, 16, 30, 45],\n",
       "       [59, 48, 21, 78],\n",
       "       [94, 33,  3, 53],\n",
       "       [30, 88, 92, 49],\n",
       "       [77, 31, 64, 58],\n",
       "       [21, 45, 25, 76],\n",
       "       [26, 14, 65, 78],\n",
       "       [45, 59, 50, 56],\n",
       "       [24, 44,  7, 88],\n",
       "       [53, 17, 51, 34],\n",
       "       [73, 95, 37, 13],\n",
       "       [51, 41, 10, 55],\n",
       "       [54, 60, 26, 91]])"
      ]
     },
     "execution_count": 27,
     "metadata": {},
     "output_type": "execute_result"
    }
   ],
   "source": [
    "# if no.of rows and elements are given then we can find no. of column by putting -1 in place of column and viceversa\n",
    "a=a.reshape(-1,4)\n",
    "a"
   ]
  },
  {
   "cell_type": "markdown",
   "id": "5b1af5fe",
   "metadata": {},
   "source": [
    "# Seed Function() ==> We know that randint function generates random numbers.Everytime we run the program ,new set of random number is generated.So to ,solve this problem we use seed() function"
   ]
  },
  {
   "cell_type": "code",
   "execution_count": 30,
   "id": "8ae3c085",
   "metadata": {},
   "outputs": [
    {
     "data": {
      "text/plain": [
       "array([ 4, 15, 16,  7, 17, 10,  9,  5,  8, 17])"
      ]
     },
     "execution_count": 30,
     "metadata": {},
     "output_type": "execute_result"
    }
   ],
   "source": [
    "import numpy as np\n",
    "np.random.seed(5)#seed function use krne ke bad vo value change nhi krta hai\n",
    "a=np.random.randint(1,20,10)\n",
    "a"
   ]
  },
  {
   "cell_type": "markdown",
   "id": "a164c36e",
   "metadata": {},
   "source": [
    "# View Vs Copy ==>when we slice a sub-array from an array,it may be done by two ways"
   ]
  },
  {
   "cell_type": "markdown",
   "id": "9e77fde8",
   "metadata": {},
   "source": [
    "# View"
   ]
  },
  {
   "cell_type": "code",
   "execution_count": 31,
   "id": "92b10cc0",
   "metadata": {},
   "outputs": [
    {
     "data": {
      "text/plain": [
       "array([10, 20, 30,  0,  0,  0, 70, 80])"
      ]
     },
     "execution_count": 31,
     "metadata": {},
     "output_type": "execute_result"
    }
   ],
   "source": [
    "import numpy as np\n",
    "a=np.array([10,20,30,40,50,60,70,80])\n",
    "b=a[3:6]\n",
    "b[:]=0\n",
    "a"
   ]
  },
  {
   "cell_type": "markdown",
   "id": "84256365",
   "metadata": {},
   "source": [
    "# Copy"
   ]
  },
  {
   "cell_type": "code",
   "execution_count": 34,
   "id": "3daf5426",
   "metadata": {},
   "outputs": [
    {
     "name": "stdout",
     "output_type": "stream",
     "text": [
      "[10 20 30 40 50 60 70 80]\n",
      "[0 0 0]\n"
     ]
    }
   ],
   "source": [
    "import numpy as np\n",
    "a=np.array([10,20,30,40,50,60,70,80])\n",
    "b=a[3:6].copy()\n",
    "b[:]=0\n",
    "print(a)\n",
    "print(b)"
   ]
  },
  {
   "cell_type": "markdown",
   "id": "13dc340d",
   "metadata": {},
   "source": [
    "# Conditional selection"
   ]
  },
  {
   "cell_type": "code",
   "execution_count": 35,
   "id": "5cc43a33",
   "metadata": {},
   "outputs": [
    {
     "data": {
      "text/plain": [
       "array([ 1,  2,  3,  4,  5,  6,  7,  8,  9, 10, 11, 12, 13, 14, 15])"
      ]
     },
     "execution_count": 35,
     "metadata": {},
     "output_type": "execute_result"
    }
   ],
   "source": [
    "import numpy as np\n",
    "a=np.arange(1,16)#last value exclude krega\n",
    "a"
   ]
  },
  {
   "cell_type": "code",
   "execution_count": 36,
   "id": "113949dc",
   "metadata": {},
   "outputs": [
    {
     "data": {
      "text/plain": [
       "array([False, False, False, False, False, False, False, False, False,\n",
       "       False,  True,  True,  True,  True,  True])"
      ]
     },
     "execution_count": 36,
     "metadata": {},
     "output_type": "execute_result"
    }
   ],
   "source": [
    "a>10"
   ]
  },
  {
   "cell_type": "code",
   "execution_count": 37,
   "id": "305cbbf3",
   "metadata": {},
   "outputs": [
    {
     "data": {
      "text/plain": [
       "array([ True,  True,  True,  True,  True,  True,  True,  True,  True,\n",
       "       False, False, False, False, False, False])"
      ]
     },
     "execution_count": 37,
     "metadata": {},
     "output_type": "execute_result"
    }
   ],
   "source": [
    "a<10"
   ]
  },
  {
   "cell_type": "code",
   "execution_count": 42,
   "id": "ae46d4b8",
   "metadata": {},
   "outputs": [
    {
     "data": {
      "text/plain": [
       "array([11, 12, 13, 14, 15])"
      ]
     },
     "execution_count": 42,
     "metadata": {},
     "output_type": "execute_result"
    }
   ],
   "source": [
    "b=a>10\n",
    "a[b]"
   ]
  },
  {
   "cell_type": "code",
   "execution_count": 43,
   "id": "1a4deb0e",
   "metadata": {},
   "outputs": [
    {
     "data": {
      "text/plain": [
       "array([ 2,  4,  6,  8, 10, 12, 14])"
      ]
     },
     "execution_count": 43,
     "metadata": {},
     "output_type": "execute_result"
    }
   ],
   "source": [
    "a[a%2==0]"
   ]
  },
  {
   "cell_type": "markdown",
   "id": "36abb305",
   "metadata": {},
   "source": [
    "# Operations on Array"
   ]
  },
  {
   "cell_type": "code",
   "execution_count": 45,
   "id": "8cd9dd6f",
   "metadata": {},
   "outputs": [
    {
     "data": {
      "text/plain": [
       "array([2, 4, 6, 8])"
      ]
     },
     "execution_count": 45,
     "metadata": {},
     "output_type": "execute_result"
    }
   ],
   "source": [
    "import numpy as np\n",
    "a=np.arange(1,5)\n",
    "a*2"
   ]
  },
  {
   "cell_type": "code",
   "execution_count": 46,
   "id": "84cacbeb",
   "metadata": {},
   "outputs": [
    {
     "data": {
      "text/plain": [
       "array([3, 4, 5, 6])"
      ]
     },
     "execution_count": 46,
     "metadata": {},
     "output_type": "execute_result"
    }
   ],
   "source": [
    "a+2"
   ]
  },
  {
   "cell_type": "code",
   "execution_count": 47,
   "id": "22df9d57",
   "metadata": {},
   "outputs": [
    {
     "data": {
      "text/plain": [
       "array([ 1,  4,  9, 16], dtype=int32)"
      ]
     },
     "execution_count": 47,
     "metadata": {},
     "output_type": "execute_result"
    }
   ],
   "source": [
    "a**2"
   ]
  },
  {
   "cell_type": "code",
   "execution_count": 48,
   "id": "c7e04e84",
   "metadata": {},
   "outputs": [
    {
     "data": {
      "text/plain": [
       "array([[1, 2],\n",
       "       [3, 4]])"
      ]
     },
     "execution_count": 48,
     "metadata": {},
     "output_type": "execute_result"
    }
   ],
   "source": [
    "a=np.array([1,2,3,4]).reshape(2,2)\n",
    "a"
   ]
  },
  {
   "cell_type": "code",
   "execution_count": 49,
   "id": "4d6a24de",
   "metadata": {},
   "outputs": [
    {
     "data": {
      "text/plain": [
       "array([[5, 6],\n",
       "       [7, 8]])"
      ]
     },
     "execution_count": 49,
     "metadata": {},
     "output_type": "execute_result"
    }
   ],
   "source": [
    "b=np.array([5,6,7,8]).reshape(2,2)\n",
    "b"
   ]
  },
  {
   "cell_type": "code",
   "execution_count": 50,
   "id": "c0fb1ee6",
   "metadata": {},
   "outputs": [
    {
     "data": {
      "text/plain": [
       "array([[ 6,  8],\n",
       "       [10, 12]])"
      ]
     },
     "execution_count": 50,
     "metadata": {},
     "output_type": "execute_result"
    }
   ],
   "source": [
    "a+b"
   ]
  },
  {
   "cell_type": "code",
   "execution_count": 51,
   "id": "44ec2d42",
   "metadata": {},
   "outputs": [
    {
     "data": {
      "text/plain": [
       "array([[-4, -4],\n",
       "       [-4, -4]])"
      ]
     },
     "execution_count": 51,
     "metadata": {},
     "output_type": "execute_result"
    }
   ],
   "source": [
    "a-b"
   ]
  },
  {
   "cell_type": "code",
   "execution_count": 52,
   "id": "96944e36",
   "metadata": {},
   "outputs": [
    {
     "data": {
      "text/plain": [
       "array([[5.        , 3.        ],\n",
       "       [2.33333333, 2.        ]])"
      ]
     },
     "execution_count": 52,
     "metadata": {},
     "output_type": "execute_result"
    }
   ],
   "source": [
    "b/a"
   ]
  },
  {
   "cell_type": "code",
   "execution_count": 53,
   "id": "7577db6b",
   "metadata": {},
   "outputs": [
    {
     "data": {
      "text/plain": [
       "array([[ 5, 12],\n",
       "       [21, 32]])"
      ]
     },
     "execution_count": 53,
     "metadata": {},
     "output_type": "execute_result"
    }
   ],
   "source": [
    "a*b"
   ]
  },
  {
   "cell_type": "code",
   "execution_count": 54,
   "id": "3e8dba74",
   "metadata": {},
   "outputs": [
    {
     "data": {
      "text/plain": [
       "array([[ 7, 10],\n",
       "       [15, 22]])"
      ]
     },
     "execution_count": 54,
     "metadata": {},
     "output_type": "execute_result"
    }
   ],
   "source": [
    "a.dot(a)#matrix multiplication"
   ]
  },
  {
   "cell_type": "markdown",
   "id": "7de5f70f",
   "metadata": {},
   "source": [
    "# Some important functionS in numpy"
   ]
  },
  {
   "cell_type": "code",
   "execution_count": 55,
   "id": "3bb830f6",
   "metadata": {},
   "outputs": [
    {
     "data": {
      "text/plain": [
       "10"
      ]
     },
     "execution_count": 55,
     "metadata": {},
     "output_type": "execute_result"
    }
   ],
   "source": [
    "import numpy as np\n",
    "a=np.array([10,20,30,40,50])\n",
    "np.min(a)"
   ]
  },
  {
   "cell_type": "code",
   "execution_count": 56,
   "id": "a0fcd939",
   "metadata": {},
   "outputs": [
    {
     "data": {
      "text/plain": [
       "50"
      ]
     },
     "execution_count": 56,
     "metadata": {},
     "output_type": "execute_result"
    }
   ],
   "source": [
    "np.max(a)"
   ]
  },
  {
   "cell_type": "code",
   "execution_count": 57,
   "id": "01491913",
   "metadata": {},
   "outputs": [
    {
     "data": {
      "text/plain": [
       "0"
      ]
     },
     "execution_count": 57,
     "metadata": {},
     "output_type": "execute_result"
    }
   ],
   "source": [
    "np.argmin(a)#it will return indexing of minimum value"
   ]
  },
  {
   "cell_type": "code",
   "execution_count": 58,
   "id": "12585083",
   "metadata": {},
   "outputs": [
    {
     "data": {
      "text/plain": [
       "4"
      ]
     },
     "execution_count": 58,
     "metadata": {},
     "output_type": "execute_result"
    }
   ],
   "source": [
    "np.argmax(a)"
   ]
  },
  {
   "cell_type": "code",
   "execution_count": 59,
   "id": "5105855f",
   "metadata": {},
   "outputs": [
    {
     "data": {
      "text/plain": [
       "array([3.16227766, 4.47213595, 5.47722558, 6.32455532, 7.07106781])"
      ]
     },
     "execution_count": 59,
     "metadata": {},
     "output_type": "execute_result"
    }
   ],
   "source": [
    "np.sqrt(a)"
   ]
  },
  {
   "cell_type": "code",
   "execution_count": 60,
   "id": "e9a1cc8c",
   "metadata": {},
   "outputs": [
    {
     "data": {
      "text/plain": [
       "array([-0.54402111,  0.91294525, -0.98803162,  0.74511316, -0.26237485])"
      ]
     },
     "execution_count": 60,
     "metadata": {},
     "output_type": "execute_result"
    }
   ],
   "source": [
    "np.sin(a)"
   ]
  },
  {
   "cell_type": "markdown",
   "id": "579dc017",
   "metadata": {},
   "source": [
    "# Linspace()==>this function returns value btween a given range and with a same gap between consecutive elements."
   ]
  },
  {
   "cell_type": "code",
   "execution_count": 61,
   "id": "edec78d2",
   "metadata": {},
   "outputs": [
    {
     "data": {
      "text/plain": [
       "array([1.  , 1.25, 1.5 , 1.75, 2.  ])"
      ]
     },
     "execution_count": 61,
     "metadata": {},
     "output_type": "execute_result"
    }
   ],
   "source": [
    "import numpy as np\n",
    "a=np.linspace(1,2,5)\n",
    "a"
   ]
  },
  {
   "cell_type": "markdown",
   "id": "a349390c",
   "metadata": {},
   "source": [
    "# np.unique(arr,return_index=True,return_counts=True)"
   ]
  },
  {
   "cell_type": "markdown",
   "id": "c5e6b59e",
   "metadata": {},
   "source": [
    "# returns 3 array.1.the array with unique values .2.the array with respective index value.3.the array with counting of frequency"
   ]
  },
  {
   "cell_type": "code",
   "execution_count": 62,
   "id": "2868270f",
   "metadata": {},
   "outputs": [
    {
     "data": {
      "text/plain": [
       "(array([10, 20, 30, 40, 50]),\n",
       " array([0, 1, 2, 3, 4], dtype=int64),\n",
       " array([1, 1, 1, 1, 1], dtype=int64))"
      ]
     },
     "execution_count": 62,
     "metadata": {},
     "output_type": "execute_result"
    }
   ],
   "source": [
    "a=np.array([10,20,30,40,50])\n",
    "np.unique(a, return_index =True,return_counts=True)"
   ]
  },
  {
   "cell_type": "markdown",
   "id": "e02d546c",
   "metadata": {},
   "source": [
    "# horizontal and vertical stacking"
   ]
  },
  {
   "cell_type": "code",
   "execution_count": 63,
   "id": "8938d2f5",
   "metadata": {},
   "outputs": [
    {
     "data": {
      "text/plain": [
       "array([1, 2, 3, 4])"
      ]
     },
     "execution_count": 63,
     "metadata": {},
     "output_type": "execute_result"
    }
   ],
   "source": [
    "a=np.array([1,2,3,4])\n",
    "b=np.array([5,6,7,8])\n",
    "a"
   ]
  },
  {
   "cell_type": "code",
   "execution_count": 64,
   "id": "bc39e3c2",
   "metadata": {},
   "outputs": [
    {
     "data": {
      "text/plain": [
       "array([5, 6, 7, 8])"
      ]
     },
     "execution_count": 64,
     "metadata": {},
     "output_type": "execute_result"
    }
   ],
   "source": [
    "b"
   ]
  },
  {
   "cell_type": "code",
   "execution_count": 65,
   "id": "aac86422",
   "metadata": {},
   "outputs": [
    {
     "data": {
      "text/plain": [
       "array([1, 2, 3, 4, 5, 6, 7, 8])"
      ]
     },
     "execution_count": 65,
     "metadata": {},
     "output_type": "execute_result"
    }
   ],
   "source": [
    "np.hstack((a,b))"
   ]
  },
  {
   "cell_type": "code",
   "execution_count": 66,
   "id": "166c06de",
   "metadata": {},
   "outputs": [
    {
     "data": {
      "text/plain": [
       "array([[1, 2, 3, 4],\n",
       "       [5, 6, 7, 8]])"
      ]
     },
     "execution_count": 66,
     "metadata": {},
     "output_type": "execute_result"
    }
   ],
   "source": [
    "np.vstack((a,b))"
   ]
  },
  {
   "cell_type": "code",
   "execution_count": null,
   "id": "1bed6a20",
   "metadata": {},
   "outputs": [],
   "source": []
  }
 ],
 "metadata": {
  "kernelspec": {
   "display_name": "Python 3 (ipykernel)",
   "language": "python",
   "name": "python3"
  },
  "language_info": {
   "codemirror_mode": {
    "name": "ipython",
    "version": 3
   },
   "file_extension": ".py",
   "mimetype": "text/x-python",
   "name": "python",
   "nbconvert_exporter": "python",
   "pygments_lexer": "ipython3",
   "version": "3.9.13"
  }
 },
 "nbformat": 4,
 "nbformat_minor": 5
}
